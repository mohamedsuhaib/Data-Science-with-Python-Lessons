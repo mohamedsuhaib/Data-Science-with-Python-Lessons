{
 "cells": [
  {
   "cell_type": "markdown",
   "id": "a56d770b",
   "metadata": {},
   "source": [
    "# Mathematical Computing with Python NumPy"
   ]
  },
  {
   "cell_type": "markdown",
   "id": "50fd5e82",
   "metadata": {
    "toc": true
   },
   "source": [
    "<h1>Table of Contents<span class=\"tocSkip\"></span></h1>\n",
    "<div class=\"toc\"><ul class=\"toc-item\"><li><span><a href=\"#Limitations-of-Lists\" data-toc-modified-id=\"Limitations-of-Lists-1\"><span class=\"toc-item-num\">1&nbsp;&nbsp;</span>Limitations of Lists</a></span></li><li><span><a href=\"#NumPy\" data-toc-modified-id=\"NumPy-2\"><span class=\"toc-item-num\">2&nbsp;&nbsp;</span>NumPy</a></span></li><li><span><a href=\"#Purpose-of-ndarray\" data-toc-modified-id=\"Purpose-of-ndarray-3\"><span class=\"toc-item-num\">3&nbsp;&nbsp;</span>Purpose of ndarray</a></span></li><li><span><a href=\"#Types-of-Arrays\" data-toc-modified-id=\"Types-of-Arrays-4\"><span class=\"toc-item-num\">4&nbsp;&nbsp;</span>Types of Arrays</a></span></li><li><span><a href=\"#Classes-and-Attributes-of-ndarray:-.ndim\" data-toc-modified-id=\"Classes-and-Attributes-of-ndarray:-.ndim-5\"><span class=\"toc-item-num\">5&nbsp;&nbsp;</span>Classes and Attributes of ndarray: .ndim</a></span></li><li><span><a href=\"#Operations\" data-toc-modified-id=\"Operations-6\"><span class=\"toc-item-num\">6&nbsp;&nbsp;</span>Operations</a></span></li><li><span><a href=\"#Accessing-Array-Elements:-Indexing\" data-toc-modified-id=\"Accessing-Array-Elements:-Indexing-7\"><span class=\"toc-item-num\">7&nbsp;&nbsp;</span>Accessing Array Elements: Indexing</a></span></li><li><span><a href=\"#Accessing-Array-Elements:-Slicing\" data-toc-modified-id=\"Accessing-Array-Elements:-Slicing-8\"><span class=\"toc-item-num\">8&nbsp;&nbsp;</span>Accessing Array Elements: Slicing</a></span></li><li><span><a href=\"#Accessing-Array-Elements:-Iteration\" data-toc-modified-id=\"Accessing-Array-Elements:-Iteration-9\"><span class=\"toc-item-num\">9&nbsp;&nbsp;</span>Accessing Array Elements: Iteration</a></span></li><li><span><a href=\"#Indexing-with-Boolean-Arrays\" data-toc-modified-id=\"Indexing-with-Boolean-Arrays-10\"><span class=\"toc-item-num\">10&nbsp;&nbsp;</span>Indexing with Boolean Arrays</a></span></li><li><span><a href=\"#Copy-and-Views\" data-toc-modified-id=\"Copy-and-Views-11\"><span class=\"toc-item-num\">11&nbsp;&nbsp;</span>Copy and Views</a></span></li><li><span><a href=\"#Universal-Functions-(ufunc)\" data-toc-modified-id=\"Universal-Functions-(ufunc)-12\"><span class=\"toc-item-num\">12&nbsp;&nbsp;</span>Universal Functions (ufunc)</a></span></li><li><span><a href=\"#Shape-Manipulation\" data-toc-modified-id=\"Shape-Manipulation-13\"><span class=\"toc-item-num\">13&nbsp;&nbsp;</span>Shape Manipulation</a></span></li><li><span><a href=\"#Broadcasting\" data-toc-modified-id=\"Broadcasting-14\"><span class=\"toc-item-num\">14&nbsp;&nbsp;</span>Broadcasting</a></span></li><li><span><a href=\"#Linear-Algebra\" data-toc-modified-id=\"Linear-Algebra-15\"><span class=\"toc-item-num\">15&nbsp;&nbsp;</span>Linear Algebra</a></span></li></ul></div>"
   ]
  },
  {
   "cell_type": "markdown",
   "id": "9cf64acb",
   "metadata": {},
   "source": [
    "__Mathematical Computing with Python (NumPy)__"
   ]
  },
  {
   "cell_type": "markdown",
   "id": "e408fe44",
   "metadata": {},
   "source": [
    "List is a collection of values of multiple types (heterogeneous)"
   ]
  },
  {
   "cell_type": "code",
   "execution_count": 1,
   "id": "1626c256",
   "metadata": {
    "ExecuteTime": {
     "end_time": "2021-06-20T05:52:45.797438Z",
     "start_time": "2021-06-20T05:52:45.067437Z"
    }
   },
   "outputs": [
    {
     "data": {
      "text/plain": [
       "[0.3, 'a', 1, 'FIFA']"
      ]
     },
     "execution_count": 1,
     "metadata": {},
     "output_type": "execute_result"
    }
   ],
   "source": [
    "List = [.30,'a',1,\"FIFA\"]\n",
    "List"
   ]
  },
  {
   "cell_type": "markdown",
   "id": "3bb08728",
   "metadata": {},
   "source": [
    "#### Limitations of Lists\n",
    "we can change individual values in a list, but you cannot apply a mathematical operation over the entire list. This is where Numpy comes in handy."
   ]
  },
  {
   "cell_type": "code",
   "execution_count": 2,
   "id": "ecefa598",
   "metadata": {
    "ExecuteTime": {
     "end_time": "2021-06-20T05:52:52.169448Z",
     "start_time": "2021-06-20T05:52:49.557443Z"
    }
   },
   "outputs": [
    {
     "ename": "TypeError",
     "evalue": "unsupported operand type(s) for /: 'list' and 'list'",
     "output_type": "error",
     "traceback": [
      "\u001b[1;31m---------------------------------------------------------------------------\u001b[0m",
      "\u001b[1;31mTypeError\u001b[0m                                 Traceback (most recent call last)",
      "\u001b[1;32m<ipython-input-2-d666dcf0fbca>\u001b[0m in \u001b[0;36m<module>\u001b[1;34m\u001b[0m\n\u001b[0;32m      1\u001b[0m \u001b[0mDistance\u001b[0m \u001b[1;33m=\u001b[0m \u001b[1;33m[\u001b[0m\u001b[1;36m10\u001b[0m\u001b[1;33m,\u001b[0m \u001b[1;36m15\u001b[0m\u001b[1;33m,\u001b[0m \u001b[1;36m17\u001b[0m\u001b[1;33m]\u001b[0m\u001b[1;33m\u001b[0m\u001b[1;33m\u001b[0m\u001b[0m\n\u001b[0;32m      2\u001b[0m \u001b[0mTime\u001b[0m\u001b[1;33m=\u001b[0m \u001b[1;33m[\u001b[0m\u001b[1;36m.40\u001b[0m\u001b[1;33m,\u001b[0m\u001b[1;36m.37\u001b[0m\u001b[1;33m,\u001b[0m\u001b[1;36m.15\u001b[0m\u001b[1;33m]\u001b[0m\u001b[1;33m\u001b[0m\u001b[1;33m\u001b[0m\u001b[0m\n\u001b[1;32m----> 3\u001b[1;33m \u001b[0mSpeed\u001b[0m \u001b[1;33m=\u001b[0m \u001b[0mDistance\u001b[0m\u001b[1;33m/\u001b[0m\u001b[0mTime\u001b[0m\u001b[1;33m\u001b[0m\u001b[1;33m\u001b[0m\u001b[0m\n\u001b[0m",
      "\u001b[1;31mTypeError\u001b[0m: unsupported operand type(s) for /: 'list' and 'list'"
     ]
    }
   ],
   "source": [
    "Distance = [10, 15, 17]\n",
    "Time= [.40,.37,.15]\n",
    "Speed = Distance/Time"
   ]
  },
  {
   "cell_type": "markdown",
   "id": "2885a85f",
   "metadata": {},
   "source": [
    "#### NumPy\n",
    "___Numerical Python (NumPy) supports multidimensional arrays over which you can easily apply mathematical operations.___\n",
    "\n",
    "___Note:compare the exectution time___"
   ]
  },
  {
   "cell_type": "code",
   "execution_count": 3,
   "id": "73ce0349",
   "metadata": {
    "ExecuteTime": {
     "end_time": "2021-06-20T05:53:06.091551Z",
     "start_time": "2021-06-20T05:52:55.389452Z"
    }
   },
   "outputs": [
    {
     "data": {
      "text/plain": [
       "array([ 25.   ,  40.541, 113.333])"
      ]
     },
     "execution_count": 3,
     "metadata": {},
     "output_type": "execute_result"
    }
   ],
   "source": [
    "import numpy as np\n",
    "Distance = [10, 15, 17]\n",
    "Time= [.40,.37,.15]\n",
    "np_distance = np.array(Distance)\n",
    "np_time= np.array(Time)\n",
    "Speed = (np_distance/np_time)\n",
    "#round(decimal points)\n",
    "Speed.round(3)"
   ]
  },
  {
   "cell_type": "markdown",
   "id": "3bf19e0c",
   "metadata": {},
   "source": [
    "Numpy arrays are collection of Values of singel type (Homogeneous) and Multidimentional, supports Mathematical function of ndarray, fast and efficient"
   ]
  },
  {
   "cell_type": "markdown",
   "id": "6d1deba3",
   "metadata": {},
   "source": [
    "#### Purpose of ndarray\n",
    "The ndarray in Python is used as the primary container to exchange data between algorithms."
   ]
  },
  {
   "cell_type": "markdown",
   "id": "ee2b5bf5",
   "metadata": {},
   "source": [
    "#### Types of Arrays\n",
    "Arrays can be \n",
    "1. one-dimensional, \n",
    "2. two-dimensional, \n",
    "3. three-dimensional, or \n",
    "4. multi-dimensional."
   ]
  },
  {
   "cell_type": "markdown",
   "id": "8d8ca9fb",
   "metadata": {},
   "source": [
    "#### Classes and Attributes of ndarray: .ndim\n",
    "Numpy’s array class is ndarray, also referred to as numpy.ndarray. \n",
    "\n",
    "The attributes of ndarray are \n",
    "1. ndarray.ndim, \n",
    "2. ndarray.shape, \n",
    "3. ndarray.size, \n",
    "4. ndarray.dtype"
   ]
  },
  {
   "cell_type": "code",
   "execution_count": 4,
   "id": "8db78e8c",
   "metadata": {
    "ExecuteTime": {
     "end_time": "2021-06-20T05:53:33.445594Z",
     "start_time": "2021-06-20T05:53:33.345593Z"
    }
   },
   "outputs": [
    {
     "name": "stdout",
     "output_type": "stream",
     "text": [
      "1\n",
      "float64\n",
      "3\n",
      "(3,)\n",
      "<class 'numpy.ndarray'>\n",
      "\n",
      " 2\n",
      "int32\n",
      "6\n",
      "(2, 3)\n",
      "<class 'numpy.ndarray'>\n"
     ]
    },
    {
     "data": {
      "text/plain": [
       "array([[2, 3, 1],\n",
       "       [0, 5, 9]])"
      ]
     },
     "execution_count": 4,
     "metadata": {},
     "output_type": "execute_result"
    }
   ],
   "source": [
    "print(Speed.ndim)\n",
    "print(Speed.dtype)\n",
    "print(Speed.size)\n",
    "print(Speed.shape)\n",
    "print(type(Speed))  # 1D array\n",
    "\n",
    "x = np.array([[2,3,1],[0,5,9]])\n",
    "print('\\n',x.ndim)\n",
    "print(x.dtype)\n",
    "print(x.size)\n",
    "print(x.shape)\n",
    "print(type(x))  # 1D array\n",
    "\n",
    "z=x\n",
    "z"
   ]
  },
  {
   "cell_type": "markdown",
   "id": "fbf1a2be",
   "metadata": {},
   "source": [
    "#### Operations \n",
    "__Basic Operations__\n",
    "\n",
    "NumPy uses the indices of the elements in each array to carry out basic operations. \n",
    "\n",
    "1. Mathematical Operations: +, -, *, /, **\n",
    "2. Logical Operations: \n",
    "* And ==> &\n",
    "* Or ==> |\n",
    "* Not ==> ~\n",
    "3. Comparison Operations: >, >=, <, <=, ==, !=."
   ]
  },
  {
   "cell_type": "code",
   "execution_count": 5,
   "id": "5a885c3b",
   "metadata": {
    "ExecuteTime": {
     "end_time": "2021-06-20T05:53:51.537620Z",
     "start_time": "2021-06-20T05:53:51.517620Z"
    }
   },
   "outputs": [
    {
     "data": {
      "text/plain": [
       "array([22, 26, 38, 50])"
      ]
     },
     "execution_count": 5,
     "metadata": {},
     "output_type": "execute_result"
    }
   ],
   "source": [
    "#Example:\n",
    "#Dataset of four cyclists during two trials, vector addition of the arrays gives the required output.\n",
    "\n",
    "First_trial_cyclist = [10,15,17,26] #kms\n",
    "Second_trial_cylcist = [12,11,21,24] #kms\n",
    "np_First_trial_cyclist = np.array(First_trial_cyclist)\n",
    "np_Second_trial_cyclist = np.array(Second_trial_cylcist)\n",
    "np_First_trial_cyclist +  np_Second_trial_cyclist"
   ]
  },
  {
   "cell_type": "markdown",
   "id": "de6c3353",
   "metadata": {},
   "source": [
    "#### Accessing Array Elements: Indexing\n",
    "we can access an entire row of an array by referencing its axis index."
   ]
  },
  {
   "cell_type": "code",
   "execution_count": 6,
   "id": "70b260bc",
   "metadata": {
    "ExecuteTime": {
     "end_time": "2021-06-20T05:53:55.756630Z",
     "start_time": "2021-06-20T05:53:55.706630Z"
    }
   },
   "outputs": [
    {
     "name": "stdout",
     "output_type": "stream",
     "text": [
      "[10 15 17 26]\n",
      "10\n",
      "[10 12]\n"
     ]
    }
   ],
   "source": [
    "cyclist_trials = np.array([[10,15,17,26],[12,11,21,24]])\n",
    "first_trial = cyclist_trials[0]\n",
    "print(first_trial)\n",
    "\n",
    "first_cyclist_first_trial = cyclist_trials[0][0]\n",
    "print(first_cyclist_first_trial)\n",
    "\n",
    "# ':' used to select all rows, here all rows but 0th column\n",
    "first_cyclist_all_trial = cyclist_trials[:,0]\n",
    "print(first_cyclist_all_trial)"
   ]
  },
  {
   "cell_type": "code",
   "execution_count": 7,
   "id": "4dcf9a8c",
   "metadata": {
    "ExecuteTime": {
     "end_time": "2021-06-20T05:53:58.076633Z",
     "start_time": "2021-06-20T05:53:58.056633Z"
    },
    "scrolled": true
   },
   "outputs": [
    {
     "data": {
      "text/plain": [
       "array([12, 11, 21, 24])"
      ]
     },
     "execution_count": 7,
     "metadata": {},
     "output_type": "execute_result"
    }
   ],
   "source": [
    "Second_trial = cyclist_trials[1]\n",
    "Second_trial"
   ]
  },
  {
   "cell_type": "markdown",
   "id": "8d0a7497",
   "metadata": {},
   "source": [
    "#### Accessing Array Elements: Slicing\n",
    "Use the slicing method to access a range of values within an array."
   ]
  },
  {
   "cell_type": "code",
   "execution_count": 8,
   "id": "cd07a873",
   "metadata": {
    "ExecuteTime": {
     "end_time": "2021-06-20T05:53:59.666635Z",
     "start_time": "2021-06-20T05:53:59.646635Z"
    }
   },
   "outputs": [
    {
     "data": {
      "text/plain": [
       "(2, 4)"
      ]
     },
     "execution_count": 8,
     "metadata": {},
     "output_type": "execute_result"
    }
   ],
   "source": [
    "#shape of the nparray (2 roes X 4 Columns)\n",
    "cyclist_trials.shape"
   ]
  },
  {
   "cell_type": "code",
   "execution_count": 9,
   "id": "44d38297",
   "metadata": {
    "ExecuteTime": {
     "end_time": "2021-06-20T05:54:02.108640Z",
     "start_time": "2021-06-20T05:54:02.098640Z"
    }
   },
   "outputs": [
    {
     "data": {
      "text/plain": [
       "array([[15, 17],\n",
       "       [11, 21]])"
      ]
     },
     "execution_count": 9,
     "metadata": {},
     "output_type": "execute_result"
    }
   ],
   "source": [
    "#slice all row, but '1' to (3-1) columns, i.e, column 1 & 2\n",
    "cyclist_trials[:,1:3]"
   ]
  },
  {
   "cell_type": "markdown",
   "id": "61d4f4e7",
   "metadata": {},
   "source": [
    "#### Accessing Array Elements: Iteration\n",
    "Use the iteration method to go through each data element present in the dataset."
   ]
  },
  {
   "cell_type": "code",
   "execution_count": 10,
   "id": "076f1371",
   "metadata": {
    "ExecuteTime": {
     "end_time": "2021-06-20T05:54:05.220649Z",
     "start_time": "2021-06-20T05:54:05.210649Z"
    }
   },
   "outputs": [
    {
     "data": {
      "text/plain": [
       "array([[15, 17],\n",
       "       [11, 21]])"
      ]
     },
     "execution_count": 10,
     "metadata": {},
     "output_type": "execute_result"
    }
   ],
   "source": [
    "cyclist_trials = np.array([[10,15,17,26],[12,11,21,24]])\n",
    "two_cyclist_trial_data = cyclist_trials[:,1:3]\n",
    "two_cyclist_trial_data"
   ]
  },
  {
   "cell_type": "code",
   "execution_count": 11,
   "id": "89a21bcb",
   "metadata": {
    "ExecuteTime": {
     "end_time": "2021-06-20T05:54:07.120652Z",
     "start_time": "2021-06-20T05:54:07.100652Z"
    }
   },
   "outputs": [
    {
     "name": "stdout",
     "output_type": "stream",
     "text": [
      "[10 15 17 26]\n",
      "[12 11 21 24]\n"
     ]
    }
   ],
   "source": [
    "#Iterate with for loop through entire dataset\n",
    "for iterate_cyclist_trial_data in cyclist_trials:\n",
    "    print(iterate_cyclist_trial_data)\n"
   ]
  },
  {
   "cell_type": "code",
   "execution_count": 12,
   "id": "03f7432e",
   "metadata": {
    "ExecuteTime": {
     "end_time": "2021-06-20T05:54:08.340653Z",
     "start_time": "2021-06-20T05:54:08.320653Z"
    }
   },
   "outputs": [
    {
     "name": "stdout",
     "output_type": "stream",
     "text": [
      "[15 17]\n",
      "[11 21]\n"
     ]
    }
   ],
   "source": [
    "#Iterate with for loop through the two cyclist datasets\n",
    "for iterate_two_cyclist_trial_data in two_cyclist_trial_data:\n",
    "    print(iterate_two_cyclist_trial_data)"
   ]
  },
  {
   "cell_type": "markdown",
   "id": "40454982",
   "metadata": {},
   "source": [
    "#### Indexing with Boolean Arrays\n",
    "Boolean arrays are useful when you need to select a dataset according to set criteria\n",
    "* True\n",
    "* False"
   ]
  },
  {
   "cell_type": "code",
   "execution_count": 37,
   "id": "ddf00321",
   "metadata": {
    "ExecuteTime": {
     "end_time": "2021-06-20T06:20:21.659741Z",
     "start_time": "2021-06-20T06:20:21.649741Z"
    }
   },
   "outputs": [
    {
     "data": {
      "text/plain": [
       "array([[ True,  True, False,  True],\n",
       "       [False,  True,  True, False]])"
      ]
     },
     "execution_count": 37,
     "metadata": {},
     "output_type": "execute_result"
    }
   ],
   "source": [
    "#Example\n",
    "#dataset contains test scores of two students. You can use a Boolean array to choose only the scores that are above a given value.\n",
    "\n",
    "test_scores=np.array([[83,71,57,63],[54,63,81,45]])\n",
    "#Setting the passing score\n",
    "passing_score = test_scores > 60\n",
    "#Shows data elements which fit the criteria (Boolean array: passing_score)\n",
    "passing_score"
   ]
  },
  {
   "cell_type": "code",
   "execution_count": 14,
   "id": "837c1304",
   "metadata": {
    "ExecuteTime": {
     "end_time": "2021-06-20T05:54:14.744670Z",
     "start_time": "2021-06-20T05:54:14.734670Z"
    }
   },
   "outputs": [
    {
     "data": {
      "text/plain": [
       "array([83, 71, 63, 63, 81])"
      ]
     },
     "execution_count": 14,
     "metadata": {},
     "output_type": "execute_result"
    }
   ],
   "source": [
    "#Send passing score as an argument to test scores object\n",
    "test_scores[passing_score]"
   ]
  },
  {
   "cell_type": "markdown",
   "id": "7a23165f",
   "metadata": {},
   "source": [
    "#### Copy and Views\n",
    "When working with arrays, data is copied into new arrays only in some cases. Following are the three possible scenarios:\n",
    "\n",
    "1. Simple Assignments\n",
    "2. View/Shallow Copy\n",
    "3. Deep Copy"
   ]
  },
  {
   "cell_type": "markdown",
   "id": "7c8ba9fd",
   "metadata": {},
   "source": [
    "__Simple Assignment__\n",
    "\n",
    "In this method, a variable is directly assigned the value of another variable. No new copy is made."
   ]
  },
  {
   "cell_type": "code",
   "execution_count": 38,
   "id": "1d1198b3",
   "metadata": {
    "ExecuteTime": {
     "end_time": "2021-06-20T06:20:24.351746Z",
     "start_time": "2021-06-20T06:20:24.341746Z"
    }
   },
   "outputs": [
    {
     "data": {
      "text/plain": [
       "array(['Manhattan', 'Bronx', 'Brooklyn', 'Staten Island', 'Queens'],\n",
       "      dtype='<U13')"
      ]
     },
     "execution_count": 38,
     "metadata": {},
     "output_type": "execute_result"
    }
   ],
   "source": [
    "#Original dataset\n",
    "NYC_Borough = np.array(['Manhattan','Bronx','Brooklyn','Staten Island','Queens'])\n",
    "NYC_Borough"
   ]
  },
  {
   "cell_type": "code",
   "execution_count": 39,
   "id": "26dc8228",
   "metadata": {
    "ExecuteTime": {
     "end_time": "2021-06-20T06:20:25.709751Z",
     "start_time": "2021-06-20T06:20:25.706751Z"
    }
   },
   "outputs": [
    {
     "data": {
      "text/plain": [
       "array(['Manhattan', 'Bronx', 'Brooklyn', 'Staten Island', 'Queens'],\n",
       "      dtype='<U13')"
      ]
     },
     "execution_count": 39,
     "metadata": {},
     "output_type": "execute_result"
    }
   ],
   "source": [
    "#Assigned dataset\n",
    "Boroughs_in_NYC = NYC_Borough\n",
    "Boroughs_in_NYC"
   ]
  },
  {
   "cell_type": "code",
   "execution_count": 40,
   "id": "6a9641b0",
   "metadata": {
    "ExecuteTime": {
     "end_time": "2021-06-20T06:20:28.237763Z",
     "start_time": "2021-06-20T06:20:28.217763Z"
    }
   },
   "outputs": [
    {
     "data": {
      "text/plain": [
       "True"
      ]
     },
     "execution_count": 40,
     "metadata": {},
     "output_type": "execute_result"
    }
   ],
   "source": [
    "#Shows both objects are the same\n",
    "Boroughs_in_NYC in NYC_Borough"
   ]
  },
  {
   "cell_type": "code",
   "execution_count": 41,
   "id": "ecd60973",
   "metadata": {
    "ExecuteTime": {
     "end_time": "2021-06-20T06:20:30.257765Z",
     "start_time": "2021-06-20T06:20:30.247765Z"
    }
   },
   "outputs": [
    {
     "data": {
      "text/plain": [
       "True"
      ]
     },
     "execution_count": 41,
     "metadata": {},
     "output_type": "execute_result"
    }
   ],
   "source": [
    "#Shows copyand original object are same \n",
    "Boroughs_in_NYC is NYC_Borough"
   ]
  },
  {
   "cell_type": "code",
   "execution_count": 42,
   "id": "146600cb",
   "metadata": {
    "ExecuteTime": {
     "end_time": "2021-06-20T06:20:31.737768Z",
     "start_time": "2021-06-20T06:20:31.717768Z"
    }
   },
   "outputs": [
    {
     "data": {
      "text/plain": [
       "False"
      ]
     },
     "execution_count": 42,
     "metadata": {},
     "output_type": "execute_result"
    }
   ],
   "source": [
    "#Shows copyobject data is not owned by the original dataset\n",
    "Boroughs_in_NYC.base is NYC_Borough"
   ]
  },
  {
   "cell_type": "markdown",
   "id": "ee951cea",
   "metadata": {},
   "source": [
    "__View/Shallow Copy__\n",
    "\n",
    "A view, also referred to as a shallow copy, creates a new array object.\n",
    "A shallow copy creates a new object which stores the reference of the original elements\n"
   ]
  },
  {
   "cell_type": "code",
   "execution_count": 43,
   "id": "df2f4bdf",
   "metadata": {
    "ExecuteTime": {
     "end_time": "2021-06-20T06:21:31.099875Z",
     "start_time": "2021-06-20T06:21:31.089875Z"
    }
   },
   "outputs": [
    {
     "data": {
      "text/plain": [
       "array(['Manhattan', 'Bronx', 'Brooklyn', 'Staten Island', 'Queens'],\n",
       "      dtype='<U13')"
      ]
     },
     "execution_count": 43,
     "metadata": {},
     "output_type": "execute_result"
    }
   ],
   "source": [
    "#Original Dataset\n",
    "Boroughs_in_NYC"
   ]
  },
  {
   "cell_type": "code",
   "execution_count": 44,
   "id": "9dee5550",
   "metadata": {
    "ExecuteTime": {
     "end_time": "2021-06-20T06:21:32.159877Z",
     "start_time": "2021-06-20T06:21:32.139877Z"
    }
   },
   "outputs": [
    {
     "data": {
      "text/plain": [
       "array(['Manhattan', 'Bronx', 'Brooklyn', 'Staten Island', 'Queens'],\n",
       "      dtype='<U13')"
      ]
     },
     "execution_count": 44,
     "metadata": {},
     "output_type": "execute_result"
    }
   ],
   "source": [
    "Views_of_Borough_in_NYC = Boroughs_in_NYC.view()\n",
    "Views_of_Borough_in_NYC"
   ]
  },
  {
   "cell_type": "code",
   "execution_count": 45,
   "id": "812d9116",
   "metadata": {
    "ExecuteTime": {
     "end_time": "2021-06-20T06:21:33.461880Z",
     "start_time": "2021-06-20T06:21:33.441880Z"
    }
   },
   "outputs": [
    {
     "data": {
      "text/plain": [
       "False"
      ]
     },
     "execution_count": 45,
     "metadata": {},
     "output_type": "execute_result"
    }
   ],
   "source": [
    "#Shows copyand original object are different \n",
    "Views_of_Borough_in_NYC is Boroughs_in_NYC"
   ]
  },
  {
   "cell_type": "code",
   "execution_count": 46,
   "id": "5faab5cc",
   "metadata": {
    "ExecuteTime": {
     "end_time": "2021-06-20T06:21:35.761883Z",
     "start_time": "2021-06-20T06:21:35.751883Z"
    }
   },
   "outputs": [
    {
     "data": {
      "text/plain": [
       "True"
      ]
     },
     "execution_count": 46,
     "metadata": {},
     "output_type": "execute_result"
    }
   ],
   "source": [
    "#Shows copyobject data is owned by the original dataset\n",
    "Views_of_Borough_in_NYC.base is Boroughs_in_NYC"
   ]
  },
  {
   "cell_type": "code",
   "execution_count": 22,
   "id": "a9527d4e",
   "metadata": {
    "ExecuteTime": {
     "end_time": "2021-06-20T05:55:56.314895Z",
     "start_time": "2021-06-20T05:55:56.304895Z"
    }
   },
   "outputs": [
    {
     "data": {
      "text/plain": [
       "array(['Manhattan', 'Bronx', 'Brooklyn', 'Staten Island', 'Central Park'],\n",
       "      dtype='<U13')"
      ]
     },
     "execution_count": 22,
     "metadata": {},
     "output_type": "execute_result"
    }
   ],
   "source": [
    "#Change value in view object\n",
    "Views_of_Borough_in_NYC[4] = 'Central Park'\n",
    "Views_of_Borough_in_NYC"
   ]
  },
  {
   "cell_type": "code",
   "execution_count": 23,
   "id": "3a9cb384",
   "metadata": {
    "ExecuteTime": {
     "end_time": "2021-06-20T06:00:58.684443Z",
     "start_time": "2021-06-20T06:00:58.674443Z"
    }
   },
   "outputs": [
    {
     "data": {
      "text/plain": [
       "array(['Manhattan', 'Bronx', 'Brooklyn', 'Staten Island', 'Central Park'],\n",
       "      dtype='<U13')"
      ]
     },
     "execution_count": 23,
     "metadata": {},
     "output_type": "execute_result"
    }
   ],
   "source": [
    "#the change is reflected in Boroughs_in_NYC Original dataset, This is because, both lists share the same reference.\n",
    "Boroughs_in_NYC"
   ]
  },
  {
   "cell_type": "markdown",
   "id": "511682e6",
   "metadata": {},
   "source": [
    "__Deep Copy__\n",
    "\n",
    ".copy() in numpy is also called deep copy because it entirely copies the original dataset. Any change in the copy will not affect the original dataset.\n",
    "A deep copy creates a new object and recursively adds the copies of nested objects present in the original elements."
   ]
  },
  {
   "cell_type": "code",
   "execution_count": 47,
   "id": "0134045a",
   "metadata": {
    "ExecuteTime": {
     "end_time": "2021-06-20T06:21:41.771891Z",
     "start_time": "2021-06-20T06:21:41.761891Z"
    }
   },
   "outputs": [],
   "source": [
    "copy_of_NYC_Borough = NYC_Borough.copy()"
   ]
  },
  {
   "cell_type": "code",
   "execution_count": 48,
   "id": "c5921b80",
   "metadata": {
    "ExecuteTime": {
     "end_time": "2021-06-20T06:21:42.981893Z",
     "start_time": "2021-06-20T06:21:42.961893Z"
    }
   },
   "outputs": [
    {
     "data": {
      "text/plain": [
       "False"
      ]
     },
     "execution_count": 48,
     "metadata": {},
     "output_type": "execute_result"
    }
   ],
   "source": [
    "#Shows copyand original object are different \n",
    "copy_of_NYC_Borough is NYC_Borough"
   ]
  },
  {
   "cell_type": "code",
   "execution_count": 49,
   "id": "84c19a74",
   "metadata": {
    "ExecuteTime": {
     "end_time": "2021-06-20T06:21:45.081896Z",
     "start_time": "2021-06-20T06:21:45.071896Z"
    }
   },
   "outputs": [
    {
     "data": {
      "text/plain": [
       "False"
      ]
     },
     "execution_count": 49,
     "metadata": {},
     "output_type": "execute_result"
    }
   ],
   "source": [
    "#Shows copyobject data is not owned by the original dataset\n",
    "copy_of_NYC_Borough.base is NYC_Borough"
   ]
  },
  {
   "cell_type": "code",
   "execution_count": 51,
   "id": "7e395d89",
   "metadata": {
    "ExecuteTime": {
     "end_time": "2021-06-20T06:22:39.615996Z",
     "start_time": "2021-06-20T06:22:39.605996Z"
    }
   },
   "outputs": [],
   "source": [
    "#Change value in copy\n",
    "copy_of_NYC_Borough[4] = 'Central Park'"
   ]
  },
  {
   "cell_type": "code",
   "execution_count": 52,
   "id": "6a7ace1b",
   "metadata": {
    "ExecuteTime": {
     "end_time": "2021-06-20T06:23:01.452030Z",
     "start_time": "2021-06-20T06:23:01.442030Z"
    }
   },
   "outputs": [
    {
     "data": {
      "text/plain": [
       "array(['Manhattan', 'Bronx', 'Brooklyn', 'Staten Island', 'Queens'],\n",
       "      dtype='<U13')"
      ]
     },
     "execution_count": 52,
     "metadata": {},
     "output_type": "execute_result"
    }
   ],
   "source": [
    "#Original Dataset retained\n",
    "NYC_Borough"
   ]
  },
  {
   "cell_type": "code",
   "execution_count": 53,
   "id": "f5b4caea",
   "metadata": {
    "ExecuteTime": {
     "end_time": "2021-06-20T06:23:18.986062Z",
     "start_time": "2021-06-20T06:23:18.976062Z"
    }
   },
   "outputs": [
    {
     "data": {
      "text/plain": [
       "array(['Manhattan', 'Bronx', 'Brooklyn', 'Staten Island', 'Central Park'],\n",
       "      dtype='<U13')"
      ]
     },
     "execution_count": 53,
     "metadata": {},
     "output_type": "execute_result"
    }
   ],
   "source": [
    "#Copyobject changed\n",
    "copy_of_NYC_Borough"
   ]
  },
  {
   "cell_type": "markdown",
   "id": "bf678e28",
   "metadata": {},
   "source": [
    "#### Universal Functions (ufunc)"
   ]
  },
  {
   "cell_type": "markdown",
   "id": "72336034",
   "metadata": {},
   "source": [
    "NumPy provides useful mathematical functions called Universal Functions. These functions operate element-wise on an array, producing another array as output. Some of these functions are:\n",
    "1. __sqrtfunction__ provides the square root of every element in the array\n",
    "2. __cosfunction__ from Trigonometric functions gives cosine values for all elements in the array. \n",
    "3. __sinfunction__ from Trigonometric functions gives sine values for all elements in the array.\n",
    "4. __floorfunction__ returns the largest integer value of every element in the array.\n",
    "5. __expfunction__ performs exponentiation on each element."
   ]
  },
  {
   "cell_type": "code",
   "execution_count": 67,
   "id": "42151a67",
   "metadata": {
    "ExecuteTime": {
     "end_time": "2021-06-20T06:41:22.336082Z",
     "start_time": "2021-06-20T06:41:22.296082Z"
    }
   },
   "outputs": [
    {
     "name": "stdout",
     "output_type": "stream",
     "text": [
      "1.19.2\n"
     ]
    }
   ],
   "source": [
    "import numpy\n",
    "print(numpy.__version__)\n",
    "# see all the ufunc in NumPy v1.19 Manual"
   ]
  },
  {
   "cell_type": "markdown",
   "id": "d3a0d48b",
   "metadata": {},
   "source": [
    "__sqrtfunction__"
   ]
  },
  {
   "cell_type": "code",
   "execution_count": 54,
   "id": "214a8215",
   "metadata": {
    "ExecuteTime": {
     "end_time": "2021-06-20T06:28:57.606658Z",
     "start_time": "2021-06-20T06:28:57.596658Z"
    }
   },
   "outputs": [],
   "source": [
    "#Numbers for which square root will be calculated\n",
    "np_sqrt=np.sqrt([2,4,9,16])"
   ]
  },
  {
   "cell_type": "code",
   "execution_count": 61,
   "id": "1446440c",
   "metadata": {
    "ExecuteTime": {
     "end_time": "2021-06-20T06:31:59.104000Z",
     "start_time": "2021-06-20T06:31:59.084000Z"
    }
   },
   "outputs": [
    {
     "data": {
      "text/plain": [
       "array([1.41421356, 2.        , 3.        , 4.        ])"
      ]
     },
     "execution_count": 61,
     "metadata": {},
     "output_type": "execute_result"
    }
   ],
   "source": [
    "#Square root values\n",
    "np_sqrt"
   ]
  },
  {
   "cell_type": "markdown",
   "id": "ba9ab5ff",
   "metadata": {},
   "source": [
    "__Trigonometric functions__"
   ]
  },
  {
   "cell_type": "code",
   "execution_count": 62,
   "id": "12e48117",
   "metadata": {
    "ExecuteTime": {
     "end_time": "2021-06-20T06:32:44.028078Z",
     "start_time": "2021-06-20T06:32:44.008078Z"
    }
   },
   "outputs": [
    {
     "data": {
      "text/plain": [
       "1.0"
      ]
     },
     "execution_count": 62,
     "metadata": {},
     "output_type": "execute_result"
    }
   ],
   "source": [
    "#importing pi from numpy\n",
    "from numpy import pi\n",
    "#cos (0)\n",
    "np.cos(0)"
   ]
  },
  {
   "cell_type": "code",
   "execution_count": 59,
   "id": "5060f556",
   "metadata": {
    "ExecuteTime": {
     "end_time": "2021-06-20T06:30:19.973844Z",
     "start_time": "2021-06-20T06:30:19.943844Z"
    }
   },
   "outputs": [
    {
     "data": {
      "text/plain": [
       "1.0"
      ]
     },
     "execution_count": 59,
     "metadata": {},
     "output_type": "execute_result"
    }
   ],
   "source": [
    "#sin (pi/2)\n",
    "np.sin(pi/2)"
   ]
  },
  {
   "cell_type": "code",
   "execution_count": 60,
   "id": "958151c6",
   "metadata": {
    "ExecuteTime": {
     "end_time": "2021-06-20T06:30:37.223877Z",
     "start_time": "2021-06-20T06:30:37.213877Z"
    }
   },
   "outputs": [
    {
     "data": {
      "text/plain": [
       "-1.0"
      ]
     },
     "execution_count": 60,
     "metadata": {},
     "output_type": "execute_result"
    }
   ],
   "source": [
    "#cos (pi)\n",
    "np.cos(pi)"
   ]
  },
  {
   "cell_type": "markdown",
   "id": "db3b0bb3",
   "metadata": {},
   "source": [
    "__Floor function__"
   ]
  },
  {
   "cell_type": "code",
   "execution_count": 63,
   "id": "027950b7",
   "metadata": {
    "ExecuteTime": {
     "end_time": "2021-06-20T06:36:15.841454Z",
     "start_time": "2021-06-20T06:36:15.811454Z"
    }
   },
   "outputs": [
    {
     "data": {
      "text/plain": [
       "array([ 1.,  1.,  2.,  3.,  1., -1., -2.])"
      ]
     },
     "execution_count": 63,
     "metadata": {},
     "output_type": "execute_result"
    }
   ],
   "source": [
    "#Return the floor of the input element wise\n",
    "np.floor([1.5,1.6,2.7,3.3,1.1,-0.3,-1.4])"
   ]
  },
  {
   "cell_type": "markdown",
   "id": "746b2d32",
   "metadata": {},
   "source": [
    "__Exponential function__"
   ]
  },
  {
   "cell_type": "code",
   "execution_count": 68,
   "id": "a93dc4dd",
   "metadata": {
    "ExecuteTime": {
     "end_time": "2021-06-20T06:45:24.056451Z",
     "start_time": "2021-06-20T06:45:24.016451Z"
    }
   },
   "outputs": [
    {
     "data": {
      "text/plain": [
       "array([  1.        ,   2.71828183, 148.4131591 ])"
      ]
     },
     "execution_count": 68,
     "metadata": {},
     "output_type": "execute_result"
    }
   ],
   "source": [
    "#Exponential functions for complex mathematical calculations\n",
    "np.exp([0,1,5])\n",
    "\n",
    "#Eulers constant 'e'\n",
    "#e^0 = 1\n",
    "#e or e^1 = 2.71828183..."
   ]
  },
  {
   "cell_type": "code",
   "execution_count": 80,
   "id": "34cf99ad",
   "metadata": {
    "ExecuteTime": {
     "end_time": "2021-06-20T07:56:16.408487Z",
     "start_time": "2021-06-20T07:56:16.388487Z"
    }
   },
   "outputs": [
    {
     "data": {
      "text/plain": [
       "3.141592653589793"
      ]
     },
     "execution_count": 80,
     "metadata": {},
     "output_type": "execute_result"
    }
   ],
   "source": [
    "np.pi"
   ]
  },
  {
   "cell_type": "markdown",
   "id": "013c9fc1",
   "metadata": {},
   "source": [
    "#### Shape Manipulation\n",
    "\n",
    "You can use certain functions to manipulate the shape of an array.The shape of an array can be changed according to the requirement using the NumPy library functions.\n",
    "\n",
    "Array shape manipulation methods  ==> Data Wrangling"
   ]
  },
  {
   "cell_type": "markdown",
   "id": "097b3bee",
   "metadata": {},
   "source": [
    "Some common methods for manipulating shapes are:\n",
    "1. Flatten (.ravel)\n",
    "2. Reshape (.reshape(n,m))\n",
    "3. Resize (.resize(n,m))\n",
    "4. Split (.hsplit(nparray,no.times to split))\n",
    "5. Stack (.hstack((x,y)))"
   ]
  },
  {
   "cell_type": "code",
   "execution_count": 83,
   "id": "4c556c90",
   "metadata": {
    "ExecuteTime": {
     "end_time": "2021-06-20T08:03:14.398091Z",
     "start_time": "2021-06-20T08:03:14.388091Z"
    }
   },
   "outputs": [],
   "source": [
    "new_cyclist_trails = np.array([[10,15,17,26,13,19],[12,11,21,24,14,23]])"
   ]
  },
  {
   "cell_type": "markdown",
   "id": "efdce249",
   "metadata": {
    "ExecuteTime": {
     "end_time": "2021-06-20T08:04:19.134186Z",
     "start_time": "2021-06-20T08:04:19.114186Z"
    }
   },
   "source": [
    "__Flatten__\n",
    "\n",
    "__.ravel()__"
   ]
  },
  {
   "cell_type": "code",
   "execution_count": 85,
   "id": "d9de5f65",
   "metadata": {
    "ExecuteTime": {
     "end_time": "2021-06-20T08:04:45.476224Z",
     "start_time": "2021-06-20T08:04:45.416224Z"
    }
   },
   "outputs": [
    {
     "data": {
      "text/plain": [
       "array([10, 15, 17, 26, 13, 19, 12, 11, 21, 24, 14, 23])"
      ]
     },
     "execution_count": 85,
     "metadata": {},
     "output_type": "execute_result"
    }
   ],
   "source": [
    "#Flattens the dataset\n",
    "#Falttens nested np.array to single np.array\n",
    "new_cyclist_trails.ravel()"
   ]
  },
  {
   "cell_type": "code",
   "execution_count": 101,
   "id": "f5c5131a",
   "metadata": {
    "ExecuteTime": {
     "end_time": "2021-06-20T08:27:00.576164Z",
     "start_time": "2021-06-20T08:27:00.556164Z"
    }
   },
   "outputs": [
    {
     "data": {
      "text/plain": [
       "array([[10, 15, 17, 26, 13, 19],\n",
       "       [12, 11, 21, 24, 14, 23]])"
      ]
     },
     "execution_count": 101,
     "metadata": {},
     "output_type": "execute_result"
    }
   ],
   "source": [
    "new_cyclist_trails"
   ]
  },
  {
   "cell_type": "markdown",
   "id": "cdb73c3f",
   "metadata": {},
   "source": [
    "__Reshape__\n",
    "\n",
    "__.reshape(rows,columns)__\n",
    "\n",
    "we can see reshape created a reshaped new instance of the data while the original new_cyclist_trails stayed unchanged"
   ]
  },
  {
   "cell_type": "code",
   "execution_count": 100,
   "id": "337bf172",
   "metadata": {
    "ExecuteTime": {
     "end_time": "2021-06-20T08:26:49.136148Z",
     "start_time": "2021-06-20T08:26:49.116148Z"
    }
   },
   "outputs": [
    {
     "data": {
      "text/plain": [
       "array([[10, 15, 17, 26, 13, 19],\n",
       "       [12, 11, 21, 24, 14, 23]])"
      ]
     },
     "execution_count": 100,
     "metadata": {},
     "output_type": "execute_result"
    }
   ],
   "source": [
    "new_cyclist_trails"
   ]
  },
  {
   "cell_type": "code",
   "execution_count": 87,
   "id": "abef6a8a",
   "metadata": {
    "ExecuteTime": {
     "end_time": "2021-06-20T08:05:28.638285Z",
     "start_time": "2021-06-20T08:05:28.588285Z"
    },
    "scrolled": true
   },
   "outputs": [
    {
     "data": {
      "text/plain": [
       "array([[10, 15, 17, 26],\n",
       "       [13, 19, 12, 11],\n",
       "       [21, 24, 14, 23]])"
      ]
     },
     "execution_count": 87,
     "metadata": {},
     "output_type": "execute_result"
    }
   ],
   "source": [
    "#Changes or reshapes the dataset to 3 rows and 4 columns\n",
    "new_cyclist_trails.reshape(3,4)"
   ]
  },
  {
   "cell_type": "code",
   "execution_count": 106,
   "id": "c785fd7e",
   "metadata": {
    "ExecuteTime": {
     "end_time": "2021-06-20T08:31:36.501552Z",
     "start_time": "2021-06-20T08:31:36.481552Z"
    }
   },
   "outputs": [
    {
     "data": {
      "text/plain": [
       "array([[10, 15],\n",
       "       [17, 26],\n",
       "       [13, 19],\n",
       "       [12, 11],\n",
       "       [21, 24],\n",
       "       [14, 23]])"
      ]
     },
     "execution_count": 106,
     "metadata": {},
     "output_type": "execute_result"
    }
   ],
   "source": [
    "#original data unchanged\n",
    "new_cyclist_trails"
   ]
  },
  {
   "cell_type": "markdown",
   "id": "67222c53",
   "metadata": {},
   "source": [
    "__Resize__\n",
    "\n",
    "__.resize(rows,columns)__\n",
    "\n",
    "resize wii not create a new instance, the changes were applied to the original array new_cyclist_trails directly \n",
    "\n",
    "resize is called in-place operation"
   ]
  },
  {
   "cell_type": "code",
   "execution_count": 105,
   "id": "4d4da984",
   "metadata": {
    "ExecuteTime": {
     "end_time": "2021-06-20T08:28:23.167280Z",
     "start_time": "2021-06-20T08:28:23.157280Z"
    }
   },
   "outputs": [],
   "source": [
    "#Resizes again to 6 rows and 2 columns\n",
    "new_cyclist_trails.resize(6,2)"
   ]
  },
  {
   "cell_type": "code",
   "execution_count": 104,
   "id": "60c772ee",
   "metadata": {
    "ExecuteTime": {
     "end_time": "2021-06-20T08:28:12.937266Z",
     "start_time": "2021-06-20T08:28:12.927266Z"
    }
   },
   "outputs": [
    {
     "data": {
      "text/plain": [
       "array([[10, 15],\n",
       "       [17, 26],\n",
       "       [13, 19],\n",
       "       [12, 11],\n",
       "       [21, 24],\n",
       "       [14, 23]])"
      ]
     },
     "execution_count": 104,
     "metadata": {},
     "output_type": "execute_result"
    }
   ],
   "source": [
    "new_cyclist_trails"
   ]
  },
  {
   "cell_type": "code",
   "execution_count": 99,
   "id": "b5088bf3",
   "metadata": {
    "ExecuteTime": {
     "end_time": "2021-06-20T08:25:05.996004Z",
     "start_time": "2021-06-20T08:25:05.966004Z"
    }
   },
   "outputs": [
    {
     "ename": "ValueError",
     "evalue": "cannot resize an array that references or is referenced\nby another array in this way.\nUse the np.resize function or refcheck=False",
     "output_type": "error",
     "traceback": [
      "\u001b[1;31m---------------------------------------------------------------------------\u001b[0m",
      "\u001b[1;31mValueError\u001b[0m                                Traceback (most recent call last)",
      "\u001b[1;32m<ipython-input-99-4e77df99bd62>\u001b[0m in \u001b[0;36m<module>\u001b[1;34m\u001b[0m\n\u001b[1;32m----> 1\u001b[1;33m \u001b[0mnew_cyclist_trails\u001b[0m\u001b[1;33m.\u001b[0m\u001b[0mresize\u001b[0m\u001b[1;33m(\u001b[0m\u001b[1;36m4\u001b[0m\u001b[1;33m,\u001b[0m\u001b[1;36m4\u001b[0m\u001b[1;33m)\u001b[0m\u001b[1;33m\u001b[0m\u001b[1;33m\u001b[0m\u001b[0m\n\u001b[0m\u001b[0;32m      2\u001b[0m \u001b[0mnew_cyclist_trails\u001b[0m\u001b[1;33m\u001b[0m\u001b[1;33m\u001b[0m\u001b[0m\n",
      "\u001b[1;31mValueError\u001b[0m: cannot resize an array that references or is referenced\nby another array in this way.\nUse the np.resize function or refcheck=False"
     ]
    }
   ],
   "source": [
    "new_cyclist_trails.resize(4,4)\n",
    "new_cyclist_trails"
   ]
  },
  {
   "cell_type": "markdown",
   "id": "0d840eea",
   "metadata": {},
   "source": [
    "__Split__\n",
    "\n",
    "__.hsplit(nparray,no.times to split)__"
   ]
  },
  {
   "cell_type": "code",
   "execution_count": 90,
   "id": "ac073eb7",
   "metadata": {
    "ExecuteTime": {
     "end_time": "2021-06-20T08:08:57.820586Z",
     "start_time": "2021-06-20T08:08:57.750586Z"
    },
    "scrolled": true
   },
   "outputs": [
    {
     "data": {
      "text/plain": [
       "[array([[10, 15, 17],\n",
       "        [12, 11, 21]]),\n",
       " array([[26, 13, 19],\n",
       "        [24, 14, 23]])]"
      ]
     },
     "execution_count": 90,
     "metadata": {},
     "output_type": "execute_result"
    }
   ],
   "source": [
    "#Splits the array into two\n",
    "np.hsplit(new_cyclist_trails,2)"
   ]
  },
  {
   "cell_type": "markdown",
   "id": "f706a016",
   "metadata": {},
   "source": [
    "__Stack__\n",
    "\n",
    "__.hstack((nparray1,nparray2))__"
   ]
  },
  {
   "cell_type": "code",
   "execution_count": 95,
   "id": "d6517bdc",
   "metadata": {
    "ExecuteTime": {
     "end_time": "2021-06-20T08:12:18.458881Z",
     "start_time": "2021-06-20T08:12:18.438881Z"
    }
   },
   "outputs": [
    {
     "data": {
      "text/plain": [
       "array([10, 15, 17, 26, 13, 19, 12, 11, 21, 24, 14, 23])"
      ]
     },
     "execution_count": 95,
     "metadata": {},
     "output_type": "execute_result"
    }
   ],
   "source": [
    "#Stacks the arrays together\n",
    "new_cyclist_1 = np.array([10, 15, 17, 26, 13, 19]) \n",
    "new_cyclist_2 = np.array([12, 11, 21, 24, 14, 23])\n",
    "np.hstack((new_cyclist_1,new_cyclist_2))"
   ]
  },
  {
   "cell_type": "markdown",
   "id": "05ab4640",
   "metadata": {
    "ExecuteTime": {
     "end_time": "2021-06-20T08:32:00.471585Z",
     "start_time": "2021-06-20T08:32:00.461585Z"
    }
   },
   "source": [
    "#### Broadcasting\n",
    "\n",
    "NumPy uses broadcasting to carry out arithmetic operations between arrays of different shapes. In this method, NumPy automatically broadcasts the smaller array over the larger array."
   ]
  },
  {
   "cell_type": "code",
   "execution_count": 108,
   "id": "68d660b8",
   "metadata": {
    "ExecuteTime": {
     "end_time": "2021-06-20T08:34:57.057836Z",
     "start_time": "2021-06-20T08:34:56.777836Z"
    }
   },
   "outputs": [
    {
     "data": {
      "text/plain": [
       "array([0.6, 0.9, 1.5, 2.4])"
      ]
     },
     "execution_count": 108,
     "metadata": {},
     "output_type": "execute_result"
    }
   ],
   "source": [
    "import numpy as np\n",
    "#Two arrays of same shape\n",
    "array_a = np.array([2,3,5,8])\n",
    "array_b = np.array([0.3,0.3,.3,.3])\n",
    "\n",
    "#Elementwise multiplication \n",
    "array_a * array_b"
   ]
  },
  {
   "cell_type": "markdown",
   "id": "027ff63f",
   "metadata": {},
   "source": [
    "__Multiplying 1D array with a scalar__\n",
    "\n",
    "If the shape doesn’t match with array_a, numpy doesn’t have to create copies of scalar value. Instead, broadcast scalar value over the entire array to find the product."
   ]
  },
  {
   "cell_type": "code",
   "execution_count": 110,
   "id": "070e9efa",
   "metadata": {
    "ExecuteTime": {
     "end_time": "2021-06-20T08:37:09.634026Z",
     "start_time": "2021-06-20T08:37:09.614026Z"
    }
   },
   "outputs": [
    {
     "data": {
      "text/plain": [
       "array([0.6, 0.9, 1.5, 2.4])"
      ]
     },
     "execution_count": 110,
     "metadata": {},
     "output_type": "execute_result"
    }
   ],
   "source": [
    "Scalar_c = 0.3\n",
    "array_a * Scalar_c"
   ]
  },
  {
   "cell_type": "markdown",
   "id": "8a5aece2",
   "metadata": {},
   "source": [
    "__Broadcasting: Constraints__\n",
    "\n",
    "Though broadcasting can help carry out mathematical operations between different-shaped arrays, they are subject to certain constraints as listed below:\n",
    "\n",
    "1. When NumPy operates on two arrays, it compares their shapes element-wise. It finds these shapes compatible only if:\n",
    "    * Their dimensions are the same or\n",
    "    * One of them has a dimension of size 1.\n",
    "2. If these conditions are not met, a ValueErroris thrown, indicating that the arrays have incompatible shapes."
   ]
  },
  {
   "cell_type": "code",
   "execution_count": 111,
   "id": "68d76bb0",
   "metadata": {
    "ExecuteTime": {
     "end_time": "2021-06-20T08:41:55.433431Z",
     "start_time": "2021-06-20T08:41:55.413431Z"
    }
   },
   "outputs": [
    {
     "data": {
      "text/plain": [
       "array([0.6, 0.9, 1.5, 2.4])"
      ]
     },
     "execution_count": 111,
     "metadata": {},
     "output_type": "execute_result"
    }
   ],
   "source": [
    "array_a = np.array([2,3,5,8])\n",
    "array_b = np.array([0.3,0.3,.3,.3])\n",
    "#multiplying arrays of same shape\n",
    "array_a * array_b"
   ]
  },
  {
   "cell_type": "code",
   "execution_count": 112,
   "id": "ebb20d1a",
   "metadata": {
    "ExecuteTime": {
     "end_time": "2021-06-20T08:42:35.395488Z",
     "start_time": "2021-06-20T08:42:35.355488Z"
    }
   },
   "outputs": [
    {
     "ename": "ValueError",
     "evalue": "operands could not be broadcast together with shapes (4,) (2,) ",
     "output_type": "error",
     "traceback": [
      "\u001b[1;31m---------------------------------------------------------------------------\u001b[0m",
      "\u001b[1;31mValueError\u001b[0m                                Traceback (most recent call last)",
      "\u001b[1;32m<ipython-input-112-552901e4b947>\u001b[0m in \u001b[0;36m<module>\u001b[1;34m\u001b[0m\n\u001b[0;32m      1\u001b[0m \u001b[0marray_d\u001b[0m \u001b[1;33m=\u001b[0m \u001b[0mnp\u001b[0m\u001b[1;33m.\u001b[0m\u001b[0marray\u001b[0m\u001b[1;33m(\u001b[0m\u001b[1;33m[\u001b[0m\u001b[1;36m4\u001b[0m\u001b[1;33m,\u001b[0m\u001b[1;36m3\u001b[0m\u001b[1;33m]\u001b[0m\u001b[1;33m)\u001b[0m\u001b[1;33m\u001b[0m\u001b[1;33m\u001b[0m\u001b[0m\n\u001b[1;32m----> 2\u001b[1;33m \u001b[0marray_a\u001b[0m \u001b[1;33m*\u001b[0m \u001b[0marray_d\u001b[0m\u001b[1;33m\u001b[0m\u001b[1;33m\u001b[0m\u001b[0m\n\u001b[0m",
      "\u001b[1;31mValueError\u001b[0m: operands could not be broadcast together with shapes (4,) (2,) "
     ]
    }
   ],
   "source": [
    "#Creating an array of different shape\n",
    "array_d = np.array([4,3])\n",
    "#Multiplying array of different shape\n",
    "array_a * array_d"
   ]
  },
  {
   "cell_type": "markdown",
   "id": "45ec97a5",
   "metadata": {
    "ExecuteTime": {
     "end_time": "2021-06-20T08:42:56.837519Z",
     "start_time": "2021-06-20T08:42:56.827519Z"
    }
   },
   "source": [
    "__Broadcasting: Example__\n",
    "\n",
    "Let’s look at an example to see how broadcasting works to calculate the number of working hours of a worker per day in a certain week."
   ]
  },
  {
   "cell_type": "code",
   "execution_count": 115,
   "id": "b48f6756",
   "metadata": {
    "ExecuteTime": {
     "end_time": "2021-06-20T08:48:04.060973Z",
     "start_time": "2021-06-20T08:48:04.050973Z"
    }
   },
   "outputs": [
    {
     "data": {
      "text/plain": [
       "array([228, 291, 425, 320, 312])"
      ]
     },
     "execution_count": 115,
     "metadata": {},
     "output_type": "execute_result"
    }
   ],
   "source": [
    "#week one earnings\n",
    "np_week_one = np.array([105,135,195,120,165])\n",
    "#week two earnings\n",
    "np_week_two = np.array([123,156,230,200,147])\n",
    "\n",
    "#Elementwise additon operation\n",
    "total_earnings = np_week_one + np_week_two\n",
    "total_earnings"
   ]
  },
  {
   "cell_type": "code",
   "execution_count": 116,
   "id": "9d56c392",
   "metadata": {
    "ExecuteTime": {
     "end_time": "2021-06-20T08:49:25.671088Z",
     "start_time": "2021-06-20T08:49:25.631088Z"
    }
   },
   "outputs": [
    {
     "data": {
      "text/plain": [
       "array([ 7.,  9., 13.,  8., 11.])"
      ]
     },
     "execution_count": 116,
     "metadata": {},
     "output_type": "execute_result"
    }
   ],
   "source": [
    "#calculate week one hours\n",
    "# hourly wage = 15\n",
    "np_week_one_hrs = np_week_one / 15\n",
    "\n",
    "#Number of working hours per day in week one\n",
    "np_week_one_hrs"
   ]
  },
  {
   "cell_type": "markdown",
   "id": "bf9985a4",
   "metadata": {},
   "source": [
    "#### Linear Algebra\n",
    "\n",
    "NumPy can carry out linear algebraic functions as well."
   ]
  },
  {
   "cell_type": "markdown",
   "id": "462ca861",
   "metadata": {},
   "source": [
    "__Transpose__\n",
    "\n",
    "The transpose() function can help you interchange rows as columns, and vice-versa."
   ]
  },
  {
   "cell_type": "code",
   "execution_count": 118,
   "id": "37d1aacd",
   "metadata": {
    "ExecuteTime": {
     "end_time": "2021-06-20T08:53:25.151430Z",
     "start_time": "2021-06-20T08:53:25.141430Z"
    }
   },
   "outputs": [
    {
     "data": {
      "text/plain": [
       "array([[83, 71, 57, 63],\n",
       "       [54, 68, 81, 45]])"
      ]
     },
     "execution_count": 118,
     "metadata": {},
     "output_type": "execute_result"
    }
   ],
   "source": [
    "test_scores = np.array([[83,71,57,63],[54,68,81,45]])\n",
    "test_scores"
   ]
  },
  {
   "cell_type": "code",
   "execution_count": 125,
   "id": "7102a68f",
   "metadata": {
    "ExecuteTime": {
     "end_time": "2021-06-20T08:54:29.621520Z",
     "start_time": "2021-06-20T08:54:29.611520Z"
    }
   },
   "outputs": [
    {
     "data": {
      "text/plain": [
       "(2, 4)"
      ]
     },
     "execution_count": 125,
     "metadata": {},
     "output_type": "execute_result"
    }
   ],
   "source": [
    "test_scores.shape"
   ]
  },
  {
   "cell_type": "code",
   "execution_count": 120,
   "id": "91869c17",
   "metadata": {
    "ExecuteTime": {
     "end_time": "2021-06-20T08:53:39.511450Z",
     "start_time": "2021-06-20T08:53:39.501450Z"
    }
   },
   "outputs": [
    {
     "data": {
      "text/plain": [
       "array([[83, 54],\n",
       "       [71, 68],\n",
       "       [57, 81],\n",
       "       [63, 45]])"
      ]
     },
     "execution_count": 120,
     "metadata": {},
     "output_type": "execute_result"
    }
   ],
   "source": [
    "test_scores.transpose()"
   ]
  },
  {
   "cell_type": "code",
   "execution_count": 122,
   "id": "02badd44",
   "metadata": {
    "ExecuteTime": {
     "end_time": "2021-06-20T08:54:09.051491Z",
     "start_time": "2021-06-20T08:54:09.031491Z"
    }
   },
   "outputs": [
    {
     "data": {
      "text/plain": [
       "array([[83, 71, 57, 63],\n",
       "       [54, 68, 81, 45]])"
      ]
     },
     "execution_count": 122,
     "metadata": {},
     "output_type": "execute_result"
    }
   ],
   "source": [
    "test_scores"
   ]
  },
  {
   "cell_type": "markdown",
   "id": "9869c127",
   "metadata": {},
   "source": [
    "__Inverse and Trace Functions__\n",
    "\n",
    "Using NumPy, you can also find the inverse of an array and add its diagonal data elements."
   ]
  },
  {
   "cell_type": "markdown",
   "id": "437b79fc",
   "metadata": {},
   "source": [
    "__Inverse Function__\n",
    "\n",
    "__np.linalg.inv()__\n",
    "\n",
    "__Can be applied onlyon a square matrix__"
   ]
  },
  {
   "cell_type": "code",
   "execution_count": 127,
   "id": "8b919196",
   "metadata": {
    "ExecuteTime": {
     "end_time": "2021-06-20T08:58:05.653830Z",
     "start_time": "2021-06-20T08:58:05.643830Z"
    }
   },
   "outputs": [
    {
     "data": {
      "text/plain": [
       "array([[10, 20],\n",
       "       [15, 25]])"
      ]
     },
     "execution_count": 127,
     "metadata": {},
     "output_type": "execute_result"
    }
   ],
   "source": [
    "inverse_array = np.array([[10,20],[15,25]])\n",
    "inverse_array"
   ]
  },
  {
   "cell_type": "code",
   "execution_count": 129,
   "id": "5006b85c",
   "metadata": {
    "ExecuteTime": {
     "end_time": "2021-06-20T08:58:35.155873Z",
     "start_time": "2021-06-20T08:58:34.145871Z"
    }
   },
   "outputs": [
    {
     "data": {
      "text/plain": [
       "array([[-0.5,  0.4],\n",
       "       [ 0.3, -0.2]])"
      ]
     },
     "execution_count": 129,
     "metadata": {},
     "output_type": "execute_result"
    }
   ],
   "source": [
    "#Inverse of the given array\n",
    "np.linalg.inv(inverse_array)"
   ]
  },
  {
   "cell_type": "markdown",
   "id": "27129ed4",
   "metadata": {},
   "source": [
    "__Trace Function__\n",
    "\n",
    "__np.trace()__\n",
    "\n",
    "__Sum of diagonal elements, in this case a00 and b11__ "
   ]
  },
  {
   "cell_type": "code",
   "execution_count": 130,
   "id": "8e17c965",
   "metadata": {
    "ExecuteTime": {
     "end_time": "2021-06-20T09:01:15.542103Z",
     "start_time": "2021-06-20T09:01:15.502103Z"
    }
   },
   "outputs": [
    {
     "data": {
      "text/plain": [
       "41"
      ]
     },
     "execution_count": 130,
     "metadata": {},
     "output_type": "execute_result"
    }
   ],
   "source": [
    "trace_array = np.array([[10,20],[22,31]])\n",
    "np.trace(trace_array)"
   ]
  }
 ],
 "metadata": {
  "kernelspec": {
   "display_name": "Python 3",
   "language": "python",
   "name": "python3"
  },
  "language_info": {
   "codemirror_mode": {
    "name": "ipython",
    "version": 3
   },
   "file_extension": ".py",
   "mimetype": "text/x-python",
   "name": "python",
   "nbconvert_exporter": "python",
   "pygments_lexer": "ipython3",
   "version": "3.8.10"
  },
  "toc": {
   "base_numbering": "1.",
   "nav_menu": {},
   "number_sections": true,
   "sideBar": true,
   "skip_h1_title": true,
   "title_cell": "Table of Contents",
   "title_sidebar": "Contents",
   "toc_cell": true,
   "toc_position": {
    "height": "435px",
    "left": "1092.8px",
    "top": "111.133px",
    "width": "134.2px"
   },
   "toc_section_display": true,
   "toc_window_display": true
  }
 },
 "nbformat": 4,
 "nbformat_minor": 5
}
