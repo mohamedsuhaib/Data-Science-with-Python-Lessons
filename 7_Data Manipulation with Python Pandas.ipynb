{
 "cells": [
  {
   "cell_type": "markdown",
   "id": "e9723d97",
   "metadata": {},
   "source": [
    "\n",
    "# Data Manipulation with Python Pandas"
   ]
  },
  {
   "cell_type": "markdown",
   "id": "03781170",
   "metadata": {},
   "source": [
    "#### Introduction to Pandas\n"
   ]
  },
  {
   "cell_type": "markdown",
   "id": "65c87202",
   "metadata": {},
   "source": [
    "__Why Pandas?__\n",
    "\n",
    "NumPy is great for mathematical computing, but why do we need Pandas?.\n",
    "well, Numpy is still a low-level tool when it comes to data munging(processing or filtering of raw data into another form). This is where Pandas is useful.\n",
    "\n",
    "__Pandas with several functionalities__\n",
    "* Intrinsic data alignment\n",
    "* Data operation functions (merge, groupby, join)\n",
    "* Data handling functions\n",
    "* Data standardization functions\n",
    "* Data Structures handle major use cases"
   ]
  },
  {
   "cell_type": "markdown",
   "id": "27ee51b8",
   "metadata": {},
   "source": [
    "#### Pandas Features\n",
    "The various features of Pandas make it an efficient library for Data Scientists.\n",
    "* Powerful data structure\n",
    "* Fast and efficient data wrangling\n",
    "* Easy data aggregation and transformation\n",
    "* Tools for reading and writing data\n",
    "* Intelligent and automated data alignment\n",
    "* High performance merging and joining of data sets"
   ]
  },
  {
   "cell_type": "markdown",
   "id": "8ad0769d",
   "metadata": {},
   "source": [
    "#### Data Structures\n",
    "The four main libraries of Pandas data structure are:\n",
    "##### Series\n",
    "    * One-dimensional labeled array\n",
    "    * Supports multiple data types\n",
    "    \n",
    "    \n",
    "##### Data Frame\n",
    "    * Two-dimensional labeled array\n",
    "    * Supports multiple data types\n",
    "    * Input can be a series\n",
    "    * Input can be another DataFrame\n",
    "    \n",
    "    \n",
    "##### Panel\n",
    "    * Three-dimensional labeled array\n",
    "    * Supports multiple data types\n",
    "    * Items, axis 0\n",
    "    * Major axis, rows\n",
    "    * Minor axis, columns\n",
    "    \n",
    "    \n",
    "##### Panel 4D (Experimental)\n",
    "    * Four-dimensional labeled array\n",
    "    * Supports multiple data types\n",
    "    * Labels, axis 0\n",
    "    * Items, axis 1\n",
    "    * Major axis, rows\n",
    "    * Minor axis, columns    "
   ]
  },
  {
   "cell_type": "markdown",
   "id": "e62c97a9",
   "metadata": {},
   "source": [
    "#### Understanding Series\n",
    "Series is a one-dimensional array-like object containing data and labels (or index).\n",
    "Data alignment is intrinsic and will not be broken until changed explicitly by program."
   ]
  },
  {
   "cell_type": "markdown",
   "id": "418e5c9c",
   "metadata": {},
   "source": [
    "#### Series\n",
    "Series can be created with different data inputs:\n",
    "\n",
    "__Data Types__\n",
    "\n",
    "Data types of Data Inputs can be:\n",
    "* Integer\n",
    "* String\n",
    "* Python Object\n",
    "* Floating Point\n",
    "\n",
    "__Data Input__\n",
    "* ndarray\n",
    "* dict\n",
    "* scalar\n",
    "* list\n",
    "\n",
    "__Series__\n",
    "* using Data Inputs an 1D-array-like object containing data and labels (or index), which is called as series\n"
   ]
  },
  {
   "cell_type": "markdown",
   "id": "4a0706cf",
   "metadata": {},
   "source": [
    "##### How to Create Series?\n",
    "\n",
    "Key points to note while creating a series are:\n",
    "* Import Pandas as it is the main library (Import pandas as pd)\n",
    "* Import NumPy while working with ndarrays (Import numpy as np)\n",
    "* Apply the syntax and pass the data elements as arguments\n",
    "\n",
    "__Basic Method__\n",
    "\n",
    "S = pd.Series(data, index = [index])\n",
    "\n",
    "__Series__\n",
    "\n",
    "    index datavalue\n",
    "\n",
    "    0     4\n",
    "\n",
    "    1     11\n",
    "    \n",
    "    2     21\n",
    "\n",
    "    3     36"
   ]
  },
  {
   "cell_type": "markdown",
   "id": "a37f5ed2",
   "metadata": {},
   "source": [
    "##### Creating Series from a List\n"
   ]
  },
  {
   "cell_type": "code",
   "execution_count": 1,
   "id": "597fa053",
   "metadata": {
    "ExecuteTime": {
     "end_time": "2021-06-25T11:37:57.964074Z",
     "start_time": "2021-06-25T11:37:45.058336Z"
    }
   },
   "outputs": [
    {
     "name": "stdout",
     "output_type": "stream",
     "text": [
      "0    a\n",
      "1    b\n",
      "2    c\n",
      "3    d\n",
      "4    e\n",
      "5    f\n",
      "dtype: object\n"
     ]
    }
   ],
   "source": [
    "#Import libraries\n",
    "import numpy as np\n",
    "import pandas as pd \n",
    "\n",
    "#Pass list as an argument\n",
    "first_series = pd.Series(list('abcdef'))\n",
    "print(first_series)"
   ]
  },
  {
   "cell_type": "markdown",
   "id": "39f9e91f",
   "metadata": {},
   "source": [
    "We have not created index for data but notice that data alignment is done automatically."
   ]
  },
  {
   "cell_type": "markdown",
   "id": "8dd2b9ea",
   "metadata": {},
   "source": [
    "##### Creating Series from an ndarray"
   ]
  },
  {
   "cell_type": "code",
   "execution_count": 2,
   "id": "27a5e2a8",
   "metadata": {
    "ExecuteTime": {
     "end_time": "2021-06-25T11:37:57.978075Z",
     "start_time": "2021-06-25T11:37:57.969074Z"
    }
   },
   "outputs": [
    {
     "name": "stdout",
     "output_type": "stream",
     "text": [
      "0       Luxembourg\n",
      "1           Norway\n",
      "2            Japan\n",
      "3      Switzerland\n",
      "4    United States\n",
      "5            Qatar\n",
      "6          Iceland\n",
      "7           Sweden\n",
      "8        Singapore\n",
      "9          Denmark\n",
      "dtype: object\n"
     ]
    }
   ],
   "source": [
    "#ndarray for countries\n",
    "np_country = np.array(['Luxembourg','Norway','Japan','Switzerland','United States','Qatar','Iceland','Sweden','Singapore','Denmark'])\n",
    "\n",
    "#Pass ndarray as an argument\n",
    "s_country = pd.Series(np_country)\n",
    "print(s_country)"
   ]
  },
  {
   "cell_type": "markdown",
   "id": "96840aac",
   "metadata": {},
   "source": [
    "##### Creating Series from Scalar"
   ]
  },
  {
   "cell_type": "code",
   "execution_count": 3,
   "id": "8196e11b",
   "metadata": {
    "ExecuteTime": {
     "end_time": "2021-06-25T11:37:58.061080Z",
     "start_time": "2021-06-25T11:37:57.985075Z"
    }
   },
   "outputs": [
    {
     "data": {
      "text/plain": [
       "a    5\n",
       "b    5\n",
       "c    5\n",
       "d    5\n",
       "e    5\n",
       "f    5\n",
       "dtype: int64"
      ]
     },
     "execution_count": 3,
     "metadata": {},
     "output_type": "execute_result"
    }
   ],
   "source": [
    "#Print Series with Scalar input\n",
    "Scalar_Series = pd.Series(5,index=['a','b','c','d','e','f'])\n",
    "Scalar_Series"
   ]
  },
  {
   "cell_type": "code",
   "execution_count": 4,
   "id": "dc3d0050",
   "metadata": {
    "ExecuteTime": {
     "end_time": "2021-06-25T11:37:58.130084Z",
     "start_time": "2021-06-25T11:37:58.064080Z"
    }
   },
   "outputs": [
    {
     "data": {
      "text/plain": [
       "5"
      ]
     },
     "execution_count": 4,
     "metadata": {},
     "output_type": "execute_result"
    }
   ],
   "source": [
    "Scalar_Series['a']"
   ]
  },
  {
   "cell_type": "markdown",
   "id": "a75cf9ac",
   "metadata": {},
   "source": [
    "##### Creating Series from dict\n",
    "A series can also be created with dict data input for faster operations."
   ]
  },
  {
   "cell_type": "code",
   "execution_count": 5,
   "id": "5defa835",
   "metadata": {
    "ExecuteTime": {
     "end_time": "2021-06-25T11:37:58.175086Z",
     "start_time": "2021-06-25T11:37:58.132084Z"
    },
    "scrolled": true
   },
   "outputs": [
    {
     "name": "stdout",
     "output_type": "stream",
     "text": [
      "Luxembourg       52000\n",
      "Norway           40000\n",
      "Japan            10000\n",
      "Switzerland      60000\n",
      "United States    45000\n",
      "Qatar            35000\n",
      "Iceland          60000\n",
      "Sweden           48000\n",
      "Singapore        54000\n",
      "Denmark          77000\n",
      "dtype: int64\n"
     ]
    }
   ],
   "source": [
    "#Evaluate Countries and their respective GDP per capita and print them as series\n",
    "#Countries have been passed as an index and GDP as the actual data value\n",
    "dict_countries_gdp = pd.Series([52000,40000,10000,60000,45000,35000,60000,48000,54000,77000],index=['Luxembourg','Norway','Japan','Switzerland','United States','Qatar','Iceland','Sweden','Singapore','Denmark'])\n",
    "print(dict_countries_gdp)"
   ]
  },
  {
   "cell_type": "code",
   "execution_count": 6,
   "id": "aa54d93c",
   "metadata": {
    "ExecuteTime": {
     "end_time": "2021-06-25T11:37:58.226089Z",
     "start_time": "2021-06-25T11:37:58.177086Z"
    }
   },
   "outputs": [
    {
     "data": {
      "text/plain": [
       "48000"
      ]
     },
     "execution_count": 6,
     "metadata": {},
     "output_type": "execute_result"
    }
   ],
   "source": [
    "dict_countries_gdp['Sweden']"
   ]
  },
  {
   "cell_type": "markdown",
   "id": "69cd82f7",
   "metadata": {},
   "source": [
    "##### Accessing Elements in Series\n",
    "Data can be accessed through different functions like loc, iloc by passing data element position or index range.   "
   ]
  },
  {
   "cell_type": "code",
   "execution_count": 7,
   "id": "fb71d473",
   "metadata": {
    "ExecuteTime": {
     "end_time": "2021-06-25T11:37:58.272092Z",
     "start_time": "2021-06-25T11:37:58.231089Z"
    }
   },
   "outputs": [
    {
     "data": {
      "text/plain": [
       "52000"
      ]
     },
     "execution_count": 7,
     "metadata": {},
     "output_type": "execute_result"
    }
   ],
   "source": [
    "#access element in series\n",
    "dict_countries_gdp[0]"
   ]
  },
  {
   "cell_type": "code",
   "execution_count": 8,
   "id": "6c04dc69",
   "metadata": {
    "ExecuteTime": {
     "end_time": "2021-06-25T11:37:58.316094Z",
     "start_time": "2021-06-25T11:37:58.275092Z"
    }
   },
   "outputs": [
    {
     "data": {
      "text/plain": [
       "Luxembourg       52000\n",
       "Norway           40000\n",
       "Japan            10000\n",
       "Switzerland      60000\n",
       "United States    45000\n",
       "dtype: int64"
      ]
     },
     "execution_count": 8,
     "metadata": {},
     "output_type": "execute_result"
    }
   ],
   "source": [
    "#access first 5 element in Series\n",
    "dict_countries_gdp[0:5]"
   ]
  },
  {
   "cell_type": "markdown",
   "id": "cf36e841",
   "metadata": {},
   "source": [
    "###### .loc  \n",
    "look up by name or index"
   ]
  },
  {
   "cell_type": "code",
   "execution_count": 9,
   "id": "19c1cac9",
   "metadata": {
    "ExecuteTime": {
     "end_time": "2021-06-25T11:37:58.362097Z",
     "start_time": "2021-06-25T11:37:58.317094Z"
    }
   },
   "outputs": [
    {
     "data": {
      "text/plain": [
       "48000"
      ]
     },
     "execution_count": 9,
     "metadata": {},
     "output_type": "execute_result"
    }
   ],
   "source": [
    "#look up a Country by name or index\n",
    "dict_countries_gdp.loc['Sweden']"
   ]
  },
  {
   "cell_type": "markdown",
   "id": "b45deda9",
   "metadata": {},
   "source": [
    "###### .iloc \n",
    "look up by Position"
   ]
  },
  {
   "cell_type": "code",
   "execution_count": 10,
   "id": "05616a24",
   "metadata": {
    "ExecuteTime": {
     "end_time": "2021-06-25T11:37:58.407099Z",
     "start_time": "2021-06-25T11:37:58.364097Z"
    }
   },
   "outputs": [],
   "source": [
    "#dict_countries_gdp.iloc[5]"
   ]
  },
  {
   "cell_type": "markdown",
   "id": "6a9bc18b",
   "metadata": {},
   "source": [
    "##### Vectorizing Operations in Series\n",
    "Vectorized operations are performed by the data element’s position."
   ]
  },
  {
   "cell_type": "code",
   "execution_count": 11,
   "id": "590625f0",
   "metadata": {
    "ExecuteTime": {
     "end_time": "2021-06-25T11:37:58.696116Z",
     "start_time": "2021-06-25T11:37:58.409100Z"
    }
   },
   "outputs": [
    {
     "data": {
      "text/plain": [
       "a    11\n",
       "b    22\n",
       "c    33\n",
       "d    44\n",
       "dtype: int64"
      ]
     },
     "execution_count": 11,
     "metadata": {},
     "output_type": "execute_result"
    }
   ],
   "source": [
    "#Add the series\n",
    "first_vector_series = pd.Series([1,2,3,4],index=['a','b','c','d'])\n",
    "second_vector_series = pd.Series([10,20,30,40],index=['a','b','c','d'])\n",
    "\n",
    "first_vector_series + second_vector_series"
   ]
  },
  {
   "cell_type": "code",
   "execution_count": 12,
   "id": "f18e7fc9",
   "metadata": {
    "ExecuteTime": {
     "end_time": "2021-06-25T11:37:58.704116Z",
     "start_time": "2021-06-25T11:37:58.697116Z"
    }
   },
   "outputs": [
    {
     "data": {
      "text/plain": [
       "a    11\n",
       "b    32\n",
       "c    43\n",
       "d    24\n",
       "dtype: int64"
      ]
     },
     "execution_count": 12,
     "metadata": {},
     "output_type": "execute_result"
    }
   ],
   "source": [
    "#Changing the index in second_vector_series to check the changes in Addition output\n",
    "second_vector_series = pd.Series([10,20,30,40],index=['a','d','b','c'])\n",
    "first_vector_series + second_vector_series"
   ]
  },
  {
   "cell_type": "code",
   "execution_count": 13,
   "id": "08084a71",
   "metadata": {
    "ExecuteTime": {
     "end_time": "2021-06-25T11:37:58.751119Z",
     "start_time": "2021-06-25T11:37:58.706117Z"
    }
   },
   "outputs": [
    {
     "data": {
      "text/plain": [
       "a    11.0\n",
       "b    22.0\n",
       "c     NaN\n",
       "d     NaN\n",
       "e     NaN\n",
       "f     NaN\n",
       "dtype: float64"
      ]
     },
     "execution_count": 13,
     "metadata": {},
     "output_type": "execute_result"
    }
   ],
   "source": [
    "#now replaces few indexes with new ones in second_vector_series\n",
    "second_vector_series = pd.Series([10,20,30,40],index=['a','b','e','f'])\n",
    "first_vector_series + second_vector_series"
   ]
  },
  {
   "cell_type": "markdown",
   "id": "cd7f9dec",
   "metadata": {},
   "source": [
    "#### DataFrames\n",
    "DataFrameis a two-dimensional labeled data structure with columns of potentially different types.\n",
    "\n",
    "__Data Types__\n",
    "\n",
    "Data types of Data Inputs can be:\n",
    "* Integer\n",
    "* String\n",
    "* Python Object\n",
    "* Floating Point\n",
    "\n",
    "__Data Input__\n",
    "* ndarray\n",
    "* dict\n",
    "* list\n",
    "* Series\n",
    "* DataFrame\n",
    "\n",
    "__DataFrame__\n",
    "* using Data Inputs an 2D-labeled data structure with columns of potentially different types, which is called as DataFrame."
   ]
  },
  {
   "cell_type": "markdown",
   "id": "13e12420",
   "metadata": {},
   "source": [
    "##### Creating DataFrame from Lists\n",
    "Create a DataFrame from dict of equal length lists"
   ]
  },
  {
   "cell_type": "code",
   "execution_count": 14,
   "id": "cf33be40",
   "metadata": {
    "ExecuteTime": {
     "end_time": "2021-06-25T11:37:58.983132Z",
     "start_time": "2021-06-25T11:37:58.752119Z"
    }
   },
   "outputs": [
    {
     "data": {
      "text/html": [
       "<div>\n",
       "<style scoped>\n",
       "    .dataframe tbody tr th:only-of-type {\n",
       "        vertical-align: middle;\n",
       "    }\n",
       "\n",
       "    .dataframe tbody tr th {\n",
       "        vertical-align: top;\n",
       "    }\n",
       "\n",
       "    .dataframe thead th {\n",
       "        text-align: right;\n",
       "    }\n",
       "</style>\n",
       "<table border=\"1\" class=\"dataframe\">\n",
       "  <thead>\n",
       "    <tr style=\"text-align: right;\">\n",
       "      <th></th>\n",
       "      <th>HostCity</th>\n",
       "      <th>year</th>\n",
       "      <th>No. of Participating countries</th>\n",
       "    </tr>\n",
       "  </thead>\n",
       "  <tbody>\n",
       "    <tr>\n",
       "      <th>0</th>\n",
       "      <td>London</td>\n",
       "      <td>2012</td>\n",
       "      <td>205</td>\n",
       "    </tr>\n",
       "    <tr>\n",
       "      <th>1</th>\n",
       "      <td>Beiging</td>\n",
       "      <td>2004</td>\n",
       "      <td>204</td>\n",
       "    </tr>\n",
       "    <tr>\n",
       "      <th>2</th>\n",
       "      <td>Athens</td>\n",
       "      <td>2008</td>\n",
       "      <td>201</td>\n",
       "    </tr>\n",
       "    <tr>\n",
       "      <th>3</th>\n",
       "      <td>Sydney</td>\n",
       "      <td>2000</td>\n",
       "      <td>200</td>\n",
       "    </tr>\n",
       "    <tr>\n",
       "      <th>4</th>\n",
       "      <td>Atlanta</td>\n",
       "      <td>1996</td>\n",
       "      <td>197</td>\n",
       "    </tr>\n",
       "  </tbody>\n",
       "</table>\n",
       "</div>"
      ],
      "text/plain": [
       "  HostCity  year  No. of Participating countries\n",
       "0   London  2012                             205\n",
       "1  Beiging  2004                             204\n",
       "2   Athens  2008                             201\n",
       "3   Sydney  2000                             200\n",
       "4  Atlanta  1996                             197"
      ]
     },
     "execution_count": 14,
     "metadata": {},
     "output_type": "execute_result"
    }
   ],
   "source": [
    "import pandas as pd \n",
    "\n",
    "#last five olympics data: place, year and No. of Countries participated\n",
    "olympics_data_list = {'HostCity':['London','Beiging','Athens','Sydney','Atlanta'],\n",
    "                     'year':[2012,2004,2008,2000,1996],\n",
    "                     'No. of Participating countries':[205,204,201,200,197]}\n",
    "\n",
    "#Pass the list to the DataFrame\n",
    "df_olympic_data = pd.DataFrame(olympics_data_list)\n",
    "df_olympic_data"
   ]
  },
  {
   "cell_type": "markdown",
   "id": "1fbc9f09",
   "metadata": {},
   "source": [
    "##### Creating DataFrame from dict\n",
    "This example shows you how to create a DataFrame from a series of dicts.\n",
    "\n",
    "__Creating DataFrame from dict of dicts__"
   ]
  },
  {
   "cell_type": "code",
   "execution_count": 15,
   "id": "5a35c590",
   "metadata": {
    "ExecuteTime": {
     "end_time": "2021-06-25T11:37:59.004134Z",
     "start_time": "2021-06-25T11:37:58.984132Z"
    }
   },
   "outputs": [
    {
     "data": {
      "text/html": [
       "<div>\n",
       "<style scoped>\n",
       "    .dataframe tbody tr th:only-of-type {\n",
       "        vertical-align: middle;\n",
       "    }\n",
       "\n",
       "    .dataframe tbody tr th {\n",
       "        vertical-align: top;\n",
       "    }\n",
       "\n",
       "    .dataframe thead th {\n",
       "        text-align: right;\n",
       "    }\n",
       "</style>\n",
       "<table border=\"1\" class=\"dataframe\">\n",
       "  <thead>\n",
       "    <tr style=\"text-align: right;\">\n",
       "      <th></th>\n",
       "      <th>London</th>\n",
       "      <th>Beijing</th>\n",
       "    </tr>\n",
       "  </thead>\n",
       "  <tbody>\n",
       "    <tr>\n",
       "      <th>2012</th>\n",
       "      <td>205.0</td>\n",
       "      <td>NaN</td>\n",
       "    </tr>\n",
       "    <tr>\n",
       "      <th>2008</th>\n",
       "      <td>NaN</td>\n",
       "      <td>204.0</td>\n",
       "    </tr>\n",
       "  </tbody>\n",
       "</table>\n",
       "</div>"
      ],
      "text/plain": [
       "      London  Beijing\n",
       "2012   205.0      NaN\n",
       "2008     NaN    204.0"
      ]
     },
     "execution_count": 15,
     "metadata": {},
     "output_type": "execute_result"
    }
   ],
   "source": [
    "olympics_data_dict = {'London':{2012:205},'Beijing':{2008:204}}\n",
    "df_olympics_data_dict = pd.DataFrame(olympics_data_dict)\n",
    "df_olympics_data_dict"
   ]
  },
  {
   "cell_type": "markdown",
   "id": "81b38ccf",
   "metadata": {},
   "source": [
    "##### Viewing DataFrame\n",
    "You can view a DataFrame by referring to the column name or with the describe function."
   ]
  },
  {
   "cell_type": "code",
   "execution_count": 16,
   "id": "bfa17cd1",
   "metadata": {
    "ExecuteTime": {
     "end_time": "2021-06-25T11:37:59.066137Z",
     "start_time": "2021-06-25T11:37:59.005134Z"
    }
   },
   "outputs": [
    {
     "data": {
      "text/plain": [
       "0     London\n",
       "1    Beiging\n",
       "2     Athens\n",
       "3     Sydney\n",
       "4    Atlanta\n",
       "Name: HostCity, dtype: object"
      ]
     },
     "execution_count": 16,
     "metadata": {},
     "output_type": "execute_result"
    }
   ],
   "source": [
    "#Select by City name\n",
    "df_olympic_data.HostCity"
   ]
  },
  {
   "cell_type": "code",
   "execution_count": 17,
   "id": "2e1aea64",
   "metadata": {
    "ExecuteTime": {
     "end_time": "2021-06-25T11:37:59.136141Z",
     "start_time": "2021-06-25T11:37:59.069137Z"
    }
   },
   "outputs": [
    {
     "data": {
      "text/plain": [
       "<bound method NDFrame.describe of   HostCity  year  No. of Participating countries\n",
       "0   London  2012                             205\n",
       "1  Beiging  2004                             204\n",
       "2   Athens  2008                             201\n",
       "3   Sydney  2000                             200\n",
       "4  Atlanta  1996                             197>"
      ]
     },
     "execution_count": 17,
     "metadata": {},
     "output_type": "execute_result"
    }
   ],
   "source": [
    "#use describe function to Display the content\n",
    "df_olympic_data.describe"
   ]
  },
  {
   "cell_type": "markdown",
   "id": "df4388d2",
   "metadata": {},
   "source": [
    "##### Creating DataFrame from dict of Series"
   ]
  },
  {
   "cell_type": "code",
   "execution_count": 18,
   "id": "2c48abc0",
   "metadata": {
    "ExecuteTime": {
     "end_time": "2021-06-25T11:37:59.209145Z",
     "start_time": "2021-06-25T11:37:59.138141Z"
    }
   },
   "outputs": [
    {
     "data": {
      "text/html": [
       "<div>\n",
       "<style scoped>\n",
       "    .dataframe tbody tr th:only-of-type {\n",
       "        vertical-align: middle;\n",
       "    }\n",
       "\n",
       "    .dataframe tbody tr th {\n",
       "        vertical-align: top;\n",
       "    }\n",
       "\n",
       "    .dataframe thead th {\n",
       "        text-align: right;\n",
       "    }\n",
       "</style>\n",
       "<table border=\"1\" class=\"dataframe\">\n",
       "  <thead>\n",
       "    <tr style=\"text-align: right;\">\n",
       "      <th></th>\n",
       "      <th>No.of Participating Countries</th>\n",
       "      <th>Host cities</th>\n",
       "    </tr>\n",
       "  </thead>\n",
       "  <tbody>\n",
       "    <tr>\n",
       "      <th>2012</th>\n",
       "      <td>205</td>\n",
       "      <td>London</td>\n",
       "    </tr>\n",
       "    <tr>\n",
       "      <th>2004</th>\n",
       "      <td>204</td>\n",
       "      <td>Beiging</td>\n",
       "    </tr>\n",
       "    <tr>\n",
       "      <th>2008</th>\n",
       "      <td>201</td>\n",
       "      <td>Athens</td>\n",
       "    </tr>\n",
       "    <tr>\n",
       "      <th>2000</th>\n",
       "      <td>200</td>\n",
       "      <td>Sydney</td>\n",
       "    </tr>\n",
       "    <tr>\n",
       "      <th>1996</th>\n",
       "      <td>197</td>\n",
       "      <td>Atlanta</td>\n",
       "    </tr>\n",
       "  </tbody>\n",
       "</table>\n",
       "</div>"
      ],
      "text/plain": [
       "      No.of Participating Countries Host cities\n",
       "2012                            205      London\n",
       "2004                            204     Beiging\n",
       "2008                            201      Athens\n",
       "2000                            200      Sydney\n",
       "1996                            197     Atlanta"
      ]
     },
     "execution_count": 18,
     "metadata": {},
     "output_type": "execute_result"
    }
   ],
   "source": [
    "olympics_series_participation = pd.Series([205,204,201,200,197],index=[2012,2004,2008,2000,1996])\n",
    "olympics_series_country = pd.Series(['London','Beiging','Athens','Sydney','Atlanta'],index=[2012,2004,2008,2000,1996])\n",
    "\n",
    "df_olympics_Series = pd.DataFrame({'No.of Participating Countries':olympics_series_participation,'Host cities':olympics_series_country})\n",
    "df_olympics_Series"
   ]
  },
  {
   "cell_type": "markdown",
   "id": "d6e91b1f",
   "metadata": {},
   "source": [
    "##### Creating DataFrame from ndarray"
   ]
  },
  {
   "cell_type": "code",
   "execution_count": 19,
   "id": "0e284ba6",
   "metadata": {
    "ExecuteTime": {
     "end_time": "2021-06-25T11:37:59.257148Z",
     "start_time": "2021-06-25T11:37:59.211145Z"
    }
   },
   "outputs": [
    {
     "data": {
      "text/html": [
       "<div>\n",
       "<style scoped>\n",
       "    .dataframe tbody tr th:only-of-type {\n",
       "        vertical-align: middle;\n",
       "    }\n",
       "\n",
       "    .dataframe tbody tr th {\n",
       "        vertical-align: top;\n",
       "    }\n",
       "\n",
       "    .dataframe thead th {\n",
       "        text-align: right;\n",
       "    }\n",
       "</style>\n",
       "<table border=\"1\" class=\"dataframe\">\n",
       "  <thead>\n",
       "    <tr style=\"text-align: right;\">\n",
       "      <th></th>\n",
       "      <th>year</th>\n",
       "    </tr>\n",
       "  </thead>\n",
       "  <tbody>\n",
       "    <tr>\n",
       "      <th>0</th>\n",
       "      <td>2012</td>\n",
       "    </tr>\n",
       "    <tr>\n",
       "      <th>1</th>\n",
       "      <td>2008</td>\n",
       "    </tr>\n",
       "    <tr>\n",
       "      <th>2</th>\n",
       "      <td>2004</td>\n",
       "    </tr>\n",
       "    <tr>\n",
       "      <th>3</th>\n",
       "      <td>2006</td>\n",
       "    </tr>\n",
       "  </tbody>\n",
       "</table>\n",
       "</div>"
      ],
      "text/plain": [
       "   year\n",
       "0  2012\n",
       "1  2008\n",
       "2  2004\n",
       "3  2006"
      ]
     },
     "execution_count": 19,
     "metadata": {},
     "output_type": "execute_result"
    }
   ],
   "source": [
    "import numpy as np\n",
    "\n",
    "#Create a ndarraywith years\n",
    "np_array = np.array([2012,2008,2004,2006])\n",
    "#Create a dict with the ndarray\n",
    "dict_ndarray = {'year':np_array}\n",
    "\n",
    "#Pass this dict to a new DataFrame\n",
    "df_ndarray =pd.DataFrame(dict_ndarray)\n",
    "df_ndarray"
   ]
  },
  {
   "cell_type": "markdown",
   "id": "b0c5c328",
   "metadata": {},
   "source": [
    "##### Creating DataFrame from DataFrame Object "
   ]
  },
  {
   "cell_type": "code",
   "execution_count": 20,
   "id": "cad6a04a",
   "metadata": {
    "ExecuteTime": {
     "end_time": "2021-06-25T11:37:59.344153Z",
     "start_time": "2021-06-25T11:37:59.261148Z"
    }
   },
   "outputs": [
    {
     "data": {
      "text/html": [
       "<div>\n",
       "<style scoped>\n",
       "    .dataframe tbody tr th:only-of-type {\n",
       "        vertical-align: middle;\n",
       "    }\n",
       "\n",
       "    .dataframe tbody tr th {\n",
       "        vertical-align: top;\n",
       "    }\n",
       "\n",
       "    .dataframe thead th {\n",
       "        text-align: right;\n",
       "    }\n",
       "</style>\n",
       "<table border=\"1\" class=\"dataframe\">\n",
       "  <thead>\n",
       "    <tr style=\"text-align: right;\">\n",
       "      <th></th>\n",
       "      <th>No.of Participating Countries</th>\n",
       "      <th>Host cities</th>\n",
       "    </tr>\n",
       "  </thead>\n",
       "  <tbody>\n",
       "    <tr>\n",
       "      <th>2012</th>\n",
       "      <td>205</td>\n",
       "      <td>London</td>\n",
       "    </tr>\n",
       "    <tr>\n",
       "      <th>2004</th>\n",
       "      <td>204</td>\n",
       "      <td>Beiging</td>\n",
       "    </tr>\n",
       "    <tr>\n",
       "      <th>2008</th>\n",
       "      <td>201</td>\n",
       "      <td>Athens</td>\n",
       "    </tr>\n",
       "    <tr>\n",
       "      <th>2000</th>\n",
       "      <td>200</td>\n",
       "      <td>Sydney</td>\n",
       "    </tr>\n",
       "    <tr>\n",
       "      <th>1996</th>\n",
       "      <td>197</td>\n",
       "      <td>Atlanta</td>\n",
       "    </tr>\n",
       "  </tbody>\n",
       "</table>\n",
       "</div>"
      ],
      "text/plain": [
       "      No.of Participating Countries Host cities\n",
       "2012                            205      London\n",
       "2004                            204     Beiging\n",
       "2008                            201      Athens\n",
       "2000                            200      Sydney\n",
       "1996                            197     Atlanta"
      ]
     },
     "execution_count": 20,
     "metadata": {},
     "output_type": "execute_result"
    }
   ],
   "source": [
    "#Create a DataFrame from a DataFrame object\n",
    "df_from_df = pd.DataFrame(df_olympics_Series)\n",
    "df_from_df"
   ]
  },
  {
   "cell_type": "markdown",
   "id": "95d38758",
   "metadata": {},
   "source": [
    "##### View and Select Data\n",
    "__Problem Statement__: Demonstrate how to view and select data in a DataFrame"
   ]
  },
  {
   "cell_type": "code",
   "execution_count": 21,
   "id": "70136aac",
   "metadata": {
    "ExecuteTime": {
     "end_time": "2021-06-25T11:37:59.419157Z",
     "start_time": "2021-06-25T11:37:59.345153Z"
    }
   },
   "outputs": [
    {
     "data": {
      "text/html": [
       "<div>\n",
       "<style scoped>\n",
       "    .dataframe tbody tr th:only-of-type {\n",
       "        vertical-align: middle;\n",
       "    }\n",
       "\n",
       "    .dataframe tbody tr th {\n",
       "        vertical-align: top;\n",
       "    }\n",
       "\n",
       "    .dataframe thead th {\n",
       "        text-align: right;\n",
       "    }\n",
       "</style>\n",
       "<table border=\"1\" class=\"dataframe\">\n",
       "  <thead>\n",
       "    <tr style=\"text-align: right;\">\n",
       "      <th></th>\n",
       "      <th>Host Cities</th>\n",
       "      <th>No of Participating Countries</th>\n",
       "    </tr>\n",
       "  </thead>\n",
       "  <tbody>\n",
       "    <tr>\n",
       "      <th>2012</th>\n",
       "      <td>London</td>\n",
       "      <td>205</td>\n",
       "    </tr>\n",
       "    <tr>\n",
       "      <th>2008</th>\n",
       "      <td>Beijing</td>\n",
       "      <td>204</td>\n",
       "    </tr>\n",
       "    <tr>\n",
       "      <th>2004</th>\n",
       "      <td>Athens</td>\n",
       "      <td>201</td>\n",
       "    </tr>\n",
       "    <tr>\n",
       "      <th>2000</th>\n",
       "      <td>sydney</td>\n",
       "      <td>200</td>\n",
       "    </tr>\n",
       "    <tr>\n",
       "      <th>1996</th>\n",
       "      <td>Atlanta</td>\n",
       "      <td>197</td>\n",
       "    </tr>\n",
       "  </tbody>\n",
       "</table>\n",
       "</div>"
      ],
      "text/plain": [
       "     Host Cities  No of Participating Countries\n",
       "2012      London                            205\n",
       "2008     Beijing                            204\n",
       "2004      Athens                            201\n",
       "2000      sydney                            200\n",
       "1996     Atlanta                            197"
      ]
     },
     "execution_count": 21,
     "metadata": {},
     "output_type": "execute_result"
    }
   ],
   "source": [
    "#import Libraries\n",
    "import numpy as np\n",
    "import pandas as pd\n",
    "\n",
    "#Select DataFrame from Dict of Series for Summer Olympics : 1996 to 2012\n",
    "olympics_series_country = pd.Series(['London','Beijing','Athens','sydney','Atlanta'], index=[2012,2008,2004,2000,1996])\n",
    "olympics_Series_participation = pd.Series([205,204,201,200,197], index=[2012,2008,2004,2000,1996])\n",
    "\n",
    "df_olympics_series=pd.DataFrame({'Host Cities':olympics_series_country,'No of Participating Countries':olympics_Series_participation})\n",
    "\n",
    "#Display Content of Dataset\n",
    "df_olympics_series"
   ]
  },
  {
   "cell_type": "markdown",
   "id": "aec98167",
   "metadata": {},
   "source": [
    "###### View Data"
   ]
  },
  {
   "cell_type": "code",
   "execution_count": 22,
   "id": "c26000f6",
   "metadata": {
    "ExecuteTime": {
     "end_time": "2021-06-25T11:37:59.485161Z",
     "start_time": "2021-06-25T11:37:59.432158Z"
    }
   },
   "outputs": [
    {
     "data": {
      "text/plain": [
       "<bound method NDFrame.describe of      Host Cities  No of Participating Countries\n",
       "2012      London                            205\n",
       "2008     Beijing                            204\n",
       "2004      Athens                            201\n",
       "2000      sydney                            200\n",
       "1996     Atlanta                            197>"
      ]
     },
     "execution_count": 22,
     "metadata": {},
     "output_type": "execute_result"
    }
   ],
   "source": [
    "#View Dataframe using Describe\n",
    "df_olympics_series.describe"
   ]
  },
  {
   "cell_type": "code",
   "execution_count": 23,
   "id": "3e020056",
   "metadata": {
    "ExecuteTime": {
     "end_time": "2021-06-25T11:37:59.535164Z",
     "start_time": "2021-06-25T11:37:59.488161Z"
    }
   },
   "outputs": [
    {
     "data": {
      "text/html": [
       "<div>\n",
       "<style scoped>\n",
       "    .dataframe tbody tr th:only-of-type {\n",
       "        vertical-align: middle;\n",
       "    }\n",
       "\n",
       "    .dataframe tbody tr th {\n",
       "        vertical-align: top;\n",
       "    }\n",
       "\n",
       "    .dataframe thead th {\n",
       "        text-align: right;\n",
       "    }\n",
       "</style>\n",
       "<table border=\"1\" class=\"dataframe\">\n",
       "  <thead>\n",
       "    <tr style=\"text-align: right;\">\n",
       "      <th></th>\n",
       "      <th>Host Cities</th>\n",
       "      <th>No of Participating Countries</th>\n",
       "    </tr>\n",
       "  </thead>\n",
       "  <tbody>\n",
       "    <tr>\n",
       "      <th>2012</th>\n",
       "      <td>London</td>\n",
       "      <td>205</td>\n",
       "    </tr>\n",
       "    <tr>\n",
       "      <th>2008</th>\n",
       "      <td>Beijing</td>\n",
       "      <td>204</td>\n",
       "    </tr>\n",
       "  </tbody>\n",
       "</table>\n",
       "</div>"
      ],
      "text/plain": [
       "     Host Cities  No of Participating Countries\n",
       "2012      London                            205\n",
       "2008     Beijing                            204"
      ]
     },
     "execution_count": 23,
     "metadata": {},
     "output_type": "execute_result"
    }
   ],
   "source": [
    "#view top 2 records\n",
    "df_olympics_series.head(2)"
   ]
  },
  {
   "cell_type": "code",
   "execution_count": 24,
   "id": "3fc2e84b",
   "metadata": {
    "ExecuteTime": {
     "end_time": "2021-06-25T11:37:59.580167Z",
     "start_time": "2021-06-25T11:37:59.539164Z"
    }
   },
   "outputs": [
    {
     "data": {
      "text/html": [
       "<div>\n",
       "<style scoped>\n",
       "    .dataframe tbody tr th:only-of-type {\n",
       "        vertical-align: middle;\n",
       "    }\n",
       "\n",
       "    .dataframe tbody tr th {\n",
       "        vertical-align: top;\n",
       "    }\n",
       "\n",
       "    .dataframe thead th {\n",
       "        text-align: right;\n",
       "    }\n",
       "</style>\n",
       "<table border=\"1\" class=\"dataframe\">\n",
       "  <thead>\n",
       "    <tr style=\"text-align: right;\">\n",
       "      <th></th>\n",
       "      <th>Host Cities</th>\n",
       "      <th>No of Participating Countries</th>\n",
       "    </tr>\n",
       "  </thead>\n",
       "  <tbody>\n",
       "    <tr>\n",
       "      <th>2004</th>\n",
       "      <td>Athens</td>\n",
       "      <td>201</td>\n",
       "    </tr>\n",
       "    <tr>\n",
       "      <th>2000</th>\n",
       "      <td>sydney</td>\n",
       "      <td>200</td>\n",
       "    </tr>\n",
       "    <tr>\n",
       "      <th>1996</th>\n",
       "      <td>Atlanta</td>\n",
       "      <td>197</td>\n",
       "    </tr>\n",
       "  </tbody>\n",
       "</table>\n",
       "</div>"
      ],
      "text/plain": [
       "     Host Cities  No of Participating Countries\n",
       "2004      Athens                            201\n",
       "2000      sydney                            200\n",
       "1996     Atlanta                            197"
      ]
     },
     "execution_count": 24,
     "metadata": {},
     "output_type": "execute_result"
    }
   ],
   "source": [
    "#View last 3 Records\n",
    "df_olympics_series.tail(3)"
   ]
  },
  {
   "cell_type": "code",
   "execution_count": 25,
   "id": "4944acdc",
   "metadata": {
    "ExecuteTime": {
     "end_time": "2021-06-25T11:37:59.624169Z",
     "start_time": "2021-06-25T11:37:59.582167Z"
    }
   },
   "outputs": [
    {
     "data": {
      "text/plain": [
       "Int64Index([2012, 2008, 2004, 2000, 1996], dtype='int64')"
      ]
     },
     "execution_count": 25,
     "metadata": {},
     "output_type": "execute_result"
    }
   ],
   "source": [
    "#View indexes of Dataset\n",
    "df_olympics_series.index"
   ]
  },
  {
   "cell_type": "code",
   "execution_count": 26,
   "id": "858a10c3",
   "metadata": {
    "ExecuteTime": {
     "end_time": "2021-06-25T11:37:59.674172Z",
     "start_time": "2021-06-25T11:37:59.625169Z"
    }
   },
   "outputs": [
    {
     "data": {
      "text/plain": [
       "Index(['Host Cities', 'No of Participating Countries'], dtype='object')"
      ]
     },
     "execution_count": 26,
     "metadata": {},
     "output_type": "execute_result"
    }
   ],
   "source": [
    "#View Columns of Dataset\n",
    "df_olympics_series.columns"
   ]
  },
  {
   "cell_type": "markdown",
   "id": "7f08f37f",
   "metadata": {},
   "source": [
    "###### Select Data"
   ]
  },
  {
   "cell_type": "code",
   "execution_count": 27,
   "id": "74a85139",
   "metadata": {
    "ExecuteTime": {
     "end_time": "2021-06-25T11:37:59.722175Z",
     "start_time": "2021-06-25T11:37:59.679172Z"
    }
   },
   "outputs": [
    {
     "data": {
      "text/plain": [
       "2012    205\n",
       "2008    204\n",
       "2004    201\n",
       "2000    200\n",
       "1996    197\n",
       "Name: No of Participating Countries, dtype: int64"
      ]
     },
     "execution_count": 27,
     "metadata": {},
     "output_type": "execute_result"
    }
   ],
   "source": [
    "#another data selection No of Participating Countries\n",
    "df_olympics_series['No of Participating Countries']"
   ]
  },
  {
   "cell_type": "code",
   "execution_count": 28,
   "id": "4f1239b0",
   "metadata": {
    "ExecuteTime": {
     "end_time": "2021-06-25T11:37:59.796179Z",
     "start_time": "2021-06-25T11:37:59.724175Z"
    }
   },
   "outputs": [
    {
     "data": {
      "text/plain": [
       "2012     London\n",
       "2008    Beijing\n",
       "2004     Athens\n",
       "2000     sydney\n",
       "1996    Atlanta\n",
       "Name: Host Cities, dtype: object"
      ]
     },
     "execution_count": 28,
     "metadata": {},
     "output_type": "execute_result"
    }
   ],
   "source": [
    "#Select Data for Host Cities\n",
    "df_olympics_series['Host Cities']"
   ]
  },
  {
   "cell_type": "code",
   "execution_count": 29,
   "id": "179e25cd",
   "metadata": {
    "ExecuteTime": {
     "end_time": "2021-06-25T11:37:59.870183Z",
     "start_time": "2021-06-25T11:37:59.800179Z"
    }
   },
   "outputs": [
    {
     "data": {
      "text/plain": [
       "Host Cities                      London\n",
       "No of Participating Countries       205\n",
       "Name: 2012, dtype: object"
      ]
     },
     "execution_count": 29,
     "metadata": {},
     "output_type": "execute_result"
    }
   ],
   "source": [
    "#select label location based acess by label\n",
    "df_olympics_series.loc[2012]"
   ]
  },
  {
   "cell_type": "code",
   "execution_count": 30,
   "id": "a2274640",
   "metadata": {
    "ExecuteTime": {
     "end_time": "2021-06-25T11:37:59.960188Z",
     "start_time": "2021-06-25T11:37:59.874183Z"
    }
   },
   "outputs": [
    {
     "data": {
      "text/html": [
       "<div>\n",
       "<style scoped>\n",
       "    .dataframe tbody tr th:only-of-type {\n",
       "        vertical-align: middle;\n",
       "    }\n",
       "\n",
       "    .dataframe tbody tr th {\n",
       "        vertical-align: top;\n",
       "    }\n",
       "\n",
       "    .dataframe thead th {\n",
       "        text-align: right;\n",
       "    }\n",
       "</style>\n",
       "<table border=\"1\" class=\"dataframe\">\n",
       "  <thead>\n",
       "    <tr style=\"text-align: right;\">\n",
       "      <th></th>\n",
       "      <th>Host Cities</th>\n",
       "      <th>No of Participating Countries</th>\n",
       "    </tr>\n",
       "  </thead>\n",
       "  <tbody>\n",
       "    <tr>\n",
       "      <th>2008</th>\n",
       "      <td>Beijing</td>\n",
       "      <td>204</td>\n",
       "    </tr>\n",
       "    <tr>\n",
       "      <th>2004</th>\n",
       "      <td>Athens</td>\n",
       "      <td>201</td>\n",
       "    </tr>\n",
       "  </tbody>\n",
       "</table>\n",
       "</div>"
      ],
      "text/plain": [
       "     Host Cities  No of Participating Countries\n",
       "2008     Beijing                            204\n",
       "2004      Athens                            201"
      ]
     },
     "execution_count": 30,
     "metadata": {},
     "output_type": "execute_result"
    }
   ],
   "source": [
    "#Integer-Location based indexing by Position\n",
    "df_olympics_series.iloc[1:3]"
   ]
  },
  {
   "cell_type": "code",
   "execution_count": 31,
   "id": "57367b01",
   "metadata": {
    "ExecuteTime": {
     "end_time": "2021-06-25T11:38:00.016191Z",
     "start_time": "2021-06-25T11:37:59.961188Z"
    }
   },
   "outputs": [
    {
     "data": {
      "text/plain": [
       "205"
      ]
     },
     "execution_count": 31,
     "metadata": {},
     "output_type": "execute_result"
    }
   ],
   "source": [
    "#Integer-Location based selection by index value\n",
    "df_olympics_series.iat[0,1]"
   ]
  },
  {
   "cell_type": "code",
   "execution_count": 32,
   "id": "22ac5034",
   "metadata": {
    "ExecuteTime": {
     "end_time": "2021-06-25T11:38:00.075195Z",
     "start_time": "2021-06-25T11:38:00.020192Z"
    }
   },
   "outputs": [
    {
     "data": {
      "text/plain": [
       "'London'"
      ]
     },
     "execution_count": 32,
     "metadata": {},
     "output_type": "execute_result"
    }
   ],
   "source": [
    "#Integer-Location based selection by index value\n",
    "df_olympics_series.iat[0,0]"
   ]
  },
  {
   "cell_type": "code",
   "execution_count": 33,
   "id": "27a50b0a",
   "metadata": {
    "ExecuteTime": {
     "end_time": "2021-06-25T11:38:00.148199Z",
     "start_time": "2021-06-25T11:38:00.077195Z"
    }
   },
   "outputs": [
    {
     "data": {
      "text/html": [
       "<div>\n",
       "<style scoped>\n",
       "    .dataframe tbody tr th:only-of-type {\n",
       "        vertical-align: middle;\n",
       "    }\n",
       "\n",
       "    .dataframe tbody tr th {\n",
       "        vertical-align: top;\n",
       "    }\n",
       "\n",
       "    .dataframe thead th {\n",
       "        text-align: right;\n",
       "    }\n",
       "</style>\n",
       "<table border=\"1\" class=\"dataframe\">\n",
       "  <thead>\n",
       "    <tr style=\"text-align: right;\">\n",
       "      <th></th>\n",
       "      <th>Host Cities</th>\n",
       "      <th>No of Participating Countries</th>\n",
       "    </tr>\n",
       "  </thead>\n",
       "  <tbody>\n",
       "    <tr>\n",
       "      <th>2012</th>\n",
       "      <td>London</td>\n",
       "      <td>205</td>\n",
       "    </tr>\n",
       "    <tr>\n",
       "      <th>2008</th>\n",
       "      <td>Beijing</td>\n",
       "      <td>204</td>\n",
       "    </tr>\n",
       "    <tr>\n",
       "      <th>2004</th>\n",
       "      <td>Athens</td>\n",
       "      <td>201</td>\n",
       "    </tr>\n",
       "  </tbody>\n",
       "</table>\n",
       "</div>"
      ],
      "text/plain": [
       "     Host Cities  No of Participating Countries\n",
       "2012      London                            205\n",
       "2008     Beijing                            204\n",
       "2004      Athens                            201"
      ]
     },
     "execution_count": 33,
     "metadata": {},
     "output_type": "execute_result"
    }
   ],
   "source": [
    "#select data element by condition where no. of participated countries are more than 200\n",
    "#hint - use boolean expressinon\n",
    "df_olympics_series[df_olympics_series['No of Participating Countries']>200]"
   ]
  },
  {
   "cell_type": "markdown",
   "id": "cc2ca7d1",
   "metadata": {},
   "source": [
    "#### Missing Values\n",
    "Missing values in a dataset are one of the most are one of the common challenges a data scientist come across.\n",
    "Various factors may lead to missing data values, some of the common factors are\n",
    "* Data not provided by the source\n",
    "* Software issue\n",
    "* Data integration issue\n",
    "* Network issue"
   ]
  },
  {
   "cell_type": "markdown",
   "id": "48b80acd",
   "metadata": {},
   "source": [
    "##### Handling Missing Values\n",
    "It’s difficult to operate a dataset when it has missing values or uncommon indices."
   ]
  },
  {
   "cell_type": "code",
   "execution_count": 34,
   "id": "2573e871",
   "metadata": {
    "ExecuteTime": {
     "end_time": "2021-06-25T11:38:00.209203Z",
     "start_time": "2021-06-25T11:38:00.153199Z"
    }
   },
   "outputs": [
    {
     "data": {
      "text/plain": [
       "a     NaN\n",
       "b     NaN\n",
       "c    23.0\n",
       "d    14.0\n",
       "g     NaN\n",
       "h     NaN\n",
       "dtype: float64"
      ]
     },
     "execution_count": 34,
     "metadata": {},
     "output_type": "execute_result"
    }
   ],
   "source": [
    "import pandas as pd\n",
    "\n",
    "#Add the series\n",
    "first_vector_series = pd.Series([1,2,3,4],index=['a','b','c','d'])\n",
    "second_vector_series = pd.Series([10,20,30,40],index=['d','c','g','h'])\n",
    "sum_of_Series = first_vector_series + second_vector_series\n",
    "sum_of_Series"
   ]
  },
  {
   "cell_type": "markdown",
   "id": "6aa30f6b",
   "metadata": {},
   "source": [
    "##### Handling Missing Values with Functions  - dropna()\n",
    "The dropna() function drops all the values with uncommon indices."
   ]
  },
  {
   "cell_type": "code",
   "execution_count": 35,
   "id": "4a81a068",
   "metadata": {
    "ExecuteTime": {
     "end_time": "2021-06-25T11:38:00.278206Z",
     "start_time": "2021-06-25T11:38:00.211203Z"
    }
   },
   "outputs": [
    {
     "data": {
      "text/plain": [
       "a     NaN\n",
       "b     NaN\n",
       "c    23.0\n",
       "d    14.0\n",
       "g     NaN\n",
       "h     NaN\n",
       "dtype: float64"
      ]
     },
     "execution_count": 35,
     "metadata": {},
     "output_type": "execute_result"
    }
   ],
   "source": [
    "sum_of_Series"
   ]
  },
  {
   "cell_type": "code",
   "execution_count": 36,
   "id": "4d704eb7",
   "metadata": {
    "ExecuteTime": {
     "end_time": "2021-06-25T11:38:00.329209Z",
     "start_time": "2021-06-25T11:38:00.281207Z"
    }
   },
   "outputs": [
    {
     "data": {
      "text/plain": [
       "c    23.0\n",
       "d    14.0\n",
       "dtype: float64"
      ]
     },
     "execution_count": 36,
     "metadata": {},
     "output_type": "execute_result"
    }
   ],
   "source": [
    "#dropna - drop NaN(Not a Number) values from dataset\n",
    "dropna_s=sum_of_Series.dropna()\n",
    "dropna_s"
   ]
  },
  {
   "cell_type": "markdown",
   "id": "877e72c6",
   "metadata": {},
   "source": [
    "##### Handling Missing Values with Functions - fillna()\n",
    "The fillna() function fills all the uncommon indices with a number instead of dropping them."
   ]
  },
  {
   "cell_type": "code",
   "execution_count": 37,
   "id": "8c8c952e",
   "metadata": {
    "ExecuteTime": {
     "end_time": "2021-06-25T11:38:00.373212Z",
     "start_time": "2021-06-25T11:38:00.333210Z"
    }
   },
   "outputs": [
    {
     "data": {
      "text/plain": [
       "c    23.0\n",
       "d    14.0\n",
       "dtype: float64"
      ]
     },
     "execution_count": 37,
     "metadata": {},
     "output_type": "execute_result"
    }
   ],
   "source": [
    "#Fill the missing values with zero\n",
    "#dropna_s does not have NaN values\n",
    "dropna_s.fillna(0)"
   ]
  },
  {
   "cell_type": "code",
   "execution_count": 38,
   "id": "984a2541",
   "metadata": {
    "ExecuteTime": {
     "end_time": "2021-06-25T11:38:00.425215Z",
     "start_time": "2021-06-25T11:38:00.375212Z"
    }
   },
   "outputs": [
    {
     "data": {
      "text/plain": [
       "a     0.0\n",
       "b     0.0\n",
       "c    23.0\n",
       "d    14.0\n",
       "g     0.0\n",
       "h     0.0\n",
       "dtype: float64"
      ]
     },
     "execution_count": 38,
     "metadata": {},
     "output_type": "execute_result"
    }
   ],
   "source": [
    "#Fillna(0) - fill NaN(Not a Number) values with zero\n",
    "fillna_s = sum_of_Series.fillna(0)\n",
    "fillna_s"
   ]
  },
  {
   "cell_type": "markdown",
   "id": "66172c01",
   "metadata": {},
   "source": [
    "##### Handling Missing Values with Functions:\n",
    "\n",
    "for X+Y, X.add(Y,fill_value=n)"
   ]
  },
  {
   "cell_type": "code",
   "execution_count": 39,
   "id": "24c05ee2",
   "metadata": {
    "ExecuteTime": {
     "end_time": "2021-06-25T11:38:00.471217Z",
     "start_time": "2021-06-25T11:38:00.426215Z"
    }
   },
   "outputs": [
    {
     "data": {
      "text/plain": [
       "a     1.0\n",
       "b     2.0\n",
       "c    23.0\n",
       "d    14.0\n",
       "g    30.0\n",
       "h    40.0\n",
       "dtype: float64"
      ]
     },
     "execution_count": 39,
     "metadata": {},
     "output_type": "execute_result"
    }
   ],
   "source": [
    "#fill the values with 0 before performing the addition operation for missing indices\n",
    "fill_NaN_with_zero_before_sum = first_vector_series.add(second_vector_series,fill_value=0)\n",
    "fill_NaN_with_zero_before_sum"
   ]
  },
  {
   "cell_type": "markdown",
   "id": "2766bae2",
   "metadata": {},
   "source": [
    "#### Data Operation\n",
    "Data operation can be performed through various built-in methods for faster data processing."
   ]
  },
  {
   "cell_type": "code",
   "execution_count": 40,
   "id": "d68a1bfa",
   "metadata": {
    "ExecuteTime": {
     "end_time": "2021-06-25T11:38:00.516220Z",
     "start_time": "2021-06-25T11:38:00.475218Z"
    }
   },
   "outputs": [
    {
     "data": {
      "text/html": [
       "<div>\n",
       "<style scoped>\n",
       "    .dataframe tbody tr th:only-of-type {\n",
       "        vertical-align: middle;\n",
       "    }\n",
       "\n",
       "    .dataframe tbody tr th {\n",
       "        vertical-align: top;\n",
       "    }\n",
       "\n",
       "    .dataframe thead th {\n",
       "        text-align: right;\n",
       "    }\n",
       "</style>\n",
       "<table border=\"1\" class=\"dataframe\">\n",
       "  <thead>\n",
       "    <tr style=\"text-align: right;\">\n",
       "      <th></th>\n",
       "      <th>moive1</th>\n",
       "      <th>movie2</th>\n",
       "    </tr>\n",
       "  </thead>\n",
       "  <tbody>\n",
       "    <tr>\n",
       "      <th>tom</th>\n",
       "      <td>5</td>\n",
       "      <td>4</td>\n",
       "    </tr>\n",
       "    <tr>\n",
       "      <th>jeff</th>\n",
       "      <td>4</td>\n",
       "      <td>5</td>\n",
       "    </tr>\n",
       "    <tr>\n",
       "      <th>peter</th>\n",
       "      <td>3</td>\n",
       "      <td>2</td>\n",
       "    </tr>\n",
       "    <tr>\n",
       "      <th>ram</th>\n",
       "      <td>3</td>\n",
       "      <td>3</td>\n",
       "    </tr>\n",
       "    <tr>\n",
       "      <th>ted</th>\n",
       "      <td>2</td>\n",
       "      <td>4</td>\n",
       "    </tr>\n",
       "    <tr>\n",
       "      <th>paul</th>\n",
       "      <td>1</td>\n",
       "      <td>2</td>\n",
       "    </tr>\n",
       "  </tbody>\n",
       "</table>\n",
       "</div>"
      ],
      "text/plain": [
       "       moive1  movie2\n",
       "tom         5       4\n",
       "jeff        4       5\n",
       "peter       3       2\n",
       "ram         3       3\n",
       "ted         2       4\n",
       "paul        1       2"
      ]
     },
     "execution_count": 40,
     "metadata": {},
     "output_type": "execute_result"
    }
   ],
   "source": [
    "import pandas as pd\n",
    "#Declare movie rating dataframe: rating from 1 to 5 (star * rating)\n",
    "df_movie_rating = pd.DataFrame({'moive1':[5,4,3,3,2,1],\n",
    "                              'movie2':[4,5,2,3,4,2]},\n",
    "                              index=['tom','jeff','peter','ram','ted','paul'])\n",
    "df_movie_rating"
   ]
  },
  {
   "cell_type": "markdown",
   "id": "b7de4986",
   "metadata": {},
   "source": [
    "##### Data Operation with Functions\n",
    "While performing data operation, custom functions can be applied using the applymap method."
   ]
  },
  {
   "cell_type": "code",
   "execution_count": 41,
   "id": "44601da3",
   "metadata": {
    "ExecuteTime": {
     "end_time": "2021-06-25T11:38:00.554222Z",
     "start_time": "2021-06-25T11:38:00.519220Z"
    }
   },
   "outputs": [
    {
     "name": "stdout",
     "output_type": "stream",
     "text": [
      "A\n"
     ]
    }
   ],
   "source": [
    "#Declare a custom function\n",
    "def movie_grade(rating):\n",
    "    if rating == 5:\n",
    "        return 'A'\n",
    "    if rating == 4:\n",
    "        return 'B'\n",
    "    if rating == 3:\n",
    "        return 'C'\n",
    "    else:\n",
    "        return 'F'\n",
    "\n",
    "#Test the function\n",
    "print(movie_grade(5))"
   ]
  },
  {
   "cell_type": "code",
   "execution_count": 42,
   "id": "84e88023",
   "metadata": {
    "ExecuteTime": {
     "end_time": "2021-06-25T11:38:00.622226Z",
     "start_time": "2021-06-25T11:38:00.556222Z"
    }
   },
   "outputs": [
    {
     "data": {
      "text/html": [
       "<div>\n",
       "<style scoped>\n",
       "    .dataframe tbody tr th:only-of-type {\n",
       "        vertical-align: middle;\n",
       "    }\n",
       "\n",
       "    .dataframe tbody tr th {\n",
       "        vertical-align: top;\n",
       "    }\n",
       "\n",
       "    .dataframe thead th {\n",
       "        text-align: right;\n",
       "    }\n",
       "</style>\n",
       "<table border=\"1\" class=\"dataframe\">\n",
       "  <thead>\n",
       "    <tr style=\"text-align: right;\">\n",
       "      <th></th>\n",
       "      <th>moive1</th>\n",
       "      <th>movie2</th>\n",
       "    </tr>\n",
       "  </thead>\n",
       "  <tbody>\n",
       "    <tr>\n",
       "      <th>tom</th>\n",
       "      <td>A</td>\n",
       "      <td>B</td>\n",
       "    </tr>\n",
       "    <tr>\n",
       "      <th>jeff</th>\n",
       "      <td>B</td>\n",
       "      <td>A</td>\n",
       "    </tr>\n",
       "    <tr>\n",
       "      <th>peter</th>\n",
       "      <td>C</td>\n",
       "      <td>F</td>\n",
       "    </tr>\n",
       "    <tr>\n",
       "      <th>ram</th>\n",
       "      <td>C</td>\n",
       "      <td>C</td>\n",
       "    </tr>\n",
       "    <tr>\n",
       "      <th>ted</th>\n",
       "      <td>F</td>\n",
       "      <td>B</td>\n",
       "    </tr>\n",
       "    <tr>\n",
       "      <th>paul</th>\n",
       "      <td>F</td>\n",
       "      <td>F</td>\n",
       "    </tr>\n",
       "  </tbody>\n",
       "</table>\n",
       "</div>"
      ],
      "text/plain": [
       "      moive1 movie2\n",
       "tom        A      B\n",
       "jeff       B      A\n",
       "peter      C      F\n",
       "ram        C      C\n",
       "ted        F      B\n",
       "paul       F      F"
      ]
     },
     "execution_count": 42,
     "metadata": {},
     "output_type": "execute_result"
    }
   ],
   "source": [
    "#Apply the function to the DataFrame\n",
    "df_movie_rating.applymap(movie_grade)"
   ]
  },
  {
   "cell_type": "markdown",
   "id": "a36e3acc",
   "metadata": {},
   "source": [
    "##### Data Operation with Statistical Functions"
   ]
  },
  {
   "cell_type": "code",
   "execution_count": 43,
   "id": "ac080a44",
   "metadata": {
    "ExecuteTime": {
     "end_time": "2021-06-25T11:38:00.658228Z",
     "start_time": "2021-06-25T11:38:00.624226Z"
    }
   },
   "outputs": [
    {
     "data": {
      "text/html": [
       "<div>\n",
       "<style scoped>\n",
       "    .dataframe tbody tr th:only-of-type {\n",
       "        vertical-align: middle;\n",
       "    }\n",
       "\n",
       "    .dataframe tbody tr th {\n",
       "        vertical-align: top;\n",
       "    }\n",
       "\n",
       "    .dataframe thead th {\n",
       "        text-align: right;\n",
       "    }\n",
       "</style>\n",
       "<table border=\"1\" class=\"dataframe\">\n",
       "  <thead>\n",
       "    <tr style=\"text-align: right;\">\n",
       "      <th></th>\n",
       "      <th>test1</th>\n",
       "      <th>test2</th>\n",
       "    </tr>\n",
       "  </thead>\n",
       "  <tbody>\n",
       "    <tr>\n",
       "      <th>jack</th>\n",
       "      <td>95</td>\n",
       "      <td>74</td>\n",
       "    </tr>\n",
       "    <tr>\n",
       "      <th>lewis</th>\n",
       "      <td>84</td>\n",
       "      <td>85</td>\n",
       "    </tr>\n",
       "    <tr>\n",
       "      <th>patrick</th>\n",
       "      <td>73</td>\n",
       "      <td>82</td>\n",
       "    </tr>\n",
       "    <tr>\n",
       "      <th>rich</th>\n",
       "      <td>88</td>\n",
       "      <td>73</td>\n",
       "    </tr>\n",
       "    <tr>\n",
       "      <th>kelly</th>\n",
       "      <td>82</td>\n",
       "      <td>77</td>\n",
       "    </tr>\n",
       "    <tr>\n",
       "      <th>paula</th>\n",
       "      <td>61</td>\n",
       "      <td>79</td>\n",
       "    </tr>\n",
       "  </tbody>\n",
       "</table>\n",
       "</div>"
      ],
      "text/plain": [
       "         test1  test2\n",
       "jack        95     74\n",
       "lewis       84     85\n",
       "patrick     73     82\n",
       "rich        88     73\n",
       "kelly       82     77\n",
       "paula       61     79"
      ]
     },
     "execution_count": 43,
     "metadata": {},
     "output_type": "execute_result"
    }
   ],
   "source": [
    "#Create a DataFrame with two test\n",
    "df_test_scores = pd.DataFrame({'test1':[95,84,73,88,82,61],\n",
    "                              'test2':[74,85,82,73,77,79]},\n",
    "                              index=['jack','lewis','patrick','rich','kelly','paula'])\n",
    "df_test_scores"
   ]
  },
  {
   "cell_type": "markdown",
   "id": "8ba4e529",
   "metadata": {},
   "source": [
    "__Apply the max function to find the maximum score__"
   ]
  },
  {
   "cell_type": "code",
   "execution_count": 44,
   "id": "e6814ce6",
   "metadata": {
    "ExecuteTime": {
     "end_time": "2021-06-25T11:38:00.721232Z",
     "start_time": "2021-06-25T11:38:00.661228Z"
    },
    "scrolled": true
   },
   "outputs": [
    {
     "data": {
      "text/plain": [
       "test1    95\n",
       "test2    85\n",
       "dtype: int64"
      ]
     },
     "execution_count": 44,
     "metadata": {},
     "output_type": "execute_result"
    }
   ],
   "source": [
    "df_test_scores.max()"
   ]
  },
  {
   "cell_type": "markdown",
   "id": "4ab5a9fa",
   "metadata": {},
   "source": [
    "__Apply the mean function to find the average score__"
   ]
  },
  {
   "cell_type": "code",
   "execution_count": 45,
   "id": "6f6cf5ec",
   "metadata": {
    "ExecuteTime": {
     "end_time": "2021-06-25T11:38:00.771235Z",
     "start_time": "2021-06-25T11:38:00.723232Z"
    }
   },
   "outputs": [
    {
     "data": {
      "text/plain": [
       "test1    80.500000\n",
       "test2    78.333333\n",
       "dtype: float64"
      ]
     },
     "execution_count": 45,
     "metadata": {},
     "output_type": "execute_result"
    }
   ],
   "source": [
    "df_test_scores.mean()"
   ]
  },
  {
   "cell_type": "markdown",
   "id": "e210809f",
   "metadata": {},
   "source": [
    "__Apply the std function to find the standard deviation for both the tests__"
   ]
  },
  {
   "cell_type": "code",
   "execution_count": 46,
   "id": "666e7a98",
   "metadata": {
    "ExecuteTime": {
     "end_time": "2021-06-25T11:38:00.840239Z",
     "start_time": "2021-06-25T11:38:00.774235Z"
    }
   },
   "outputs": [
    {
     "data": {
      "text/plain": [
       "test1    11.979149\n",
       "test2     4.633213\n",
       "dtype: float64"
      ]
     },
     "execution_count": 46,
     "metadata": {},
     "output_type": "execute_result"
    }
   ],
   "source": [
    "df_test_scores.std()"
   ]
  },
  {
   "cell_type": "markdown",
   "id": "c0c9d522",
   "metadata": {},
   "source": [
    "##### Data Operation Using Groupby"
   ]
  },
  {
   "cell_type": "code",
   "execution_count": 47,
   "id": "35431245",
   "metadata": {
    "ExecuteTime": {
     "end_time": "2021-06-25T11:38:00.889241Z",
     "start_time": "2021-06-25T11:38:00.842239Z"
    }
   },
   "outputs": [
    {
     "data": {
      "text/html": [
       "<div>\n",
       "<style scoped>\n",
       "    .dataframe tbody tr th:only-of-type {\n",
       "        vertical-align: middle;\n",
       "    }\n",
       "\n",
       "    .dataframe tbody tr th {\n",
       "        vertical-align: top;\n",
       "    }\n",
       "\n",
       "    .dataframe thead th {\n",
       "        text-align: right;\n",
       "    }\n",
       "</style>\n",
       "<table border=\"1\" class=\"dataframe\">\n",
       "  <thead>\n",
       "    <tr style=\"text-align: right;\">\n",
       "      <th></th>\n",
       "      <th>first</th>\n",
       "      <th>last</th>\n",
       "    </tr>\n",
       "  </thead>\n",
       "  <tbody>\n",
       "    <tr>\n",
       "      <th>0</th>\n",
       "      <td>George</td>\n",
       "      <td>Bush</td>\n",
       "    </tr>\n",
       "    <tr>\n",
       "      <th>1</th>\n",
       "      <td>Bill</td>\n",
       "      <td>clinton</td>\n",
       "    </tr>\n",
       "    <tr>\n",
       "      <th>2</th>\n",
       "      <td>Ronald</td>\n",
       "      <td>Regan</td>\n",
       "    </tr>\n",
       "    <tr>\n",
       "      <th>3</th>\n",
       "      <td>Jimmy</td>\n",
       "      <td>Carter</td>\n",
       "    </tr>\n",
       "    <tr>\n",
       "      <th>4</th>\n",
       "      <td>George</td>\n",
       "      <td>Washington</td>\n",
       "    </tr>\n",
       "  </tbody>\n",
       "</table>\n",
       "</div>"
      ],
      "text/plain": [
       "    first        last\n",
       "0  George        Bush\n",
       "1    Bill     clinton\n",
       "2  Ronald       Regan\n",
       "3   Jimmy      Carter\n",
       "4  George  Washington"
      ]
     },
     "execution_count": 47,
     "metadata": {},
     "output_type": "execute_result"
    }
   ],
   "source": [
    "#Create a DataFrame with first and last name as former presidents\n",
    "df_president_name = pd.DataFrame({'first':['George','Bill','Ronald','Jimmy','George'],\n",
    "                                 'last':['Bush','clinton','Regan','Carter','Washington']})\n",
    "df_president_name"
   ]
  },
  {
   "cell_type": "code",
   "execution_count": 48,
   "id": "a220f1c1",
   "metadata": {
    "ExecuteTime": {
     "end_time": "2021-06-25T11:38:00.929244Z",
     "start_time": "2021-06-25T11:38:00.891242Z"
    }
   },
   "outputs": [],
   "source": [
    "#Group the DataFrame with the first name\n",
    "grouped = df_president_name.groupby('first')\n"
   ]
  },
  {
   "cell_type": "code",
   "execution_count": 49,
   "id": "b5571fd6",
   "metadata": {
    "ExecuteTime": {
     "end_time": "2021-06-25T11:38:00.997248Z",
     "start_time": "2021-06-25T11:38:00.932244Z"
    }
   },
   "outputs": [
    {
     "data": {
      "text/html": [
       "<div>\n",
       "<style scoped>\n",
       "    .dataframe tbody tr th:only-of-type {\n",
       "        vertical-align: middle;\n",
       "    }\n",
       "\n",
       "    .dataframe tbody tr th {\n",
       "        vertical-align: top;\n",
       "    }\n",
       "\n",
       "    .dataframe thead th {\n",
       "        text-align: right;\n",
       "    }\n",
       "</style>\n",
       "<table border=\"1\" class=\"dataframe\">\n",
       "  <thead>\n",
       "    <tr style=\"text-align: right;\">\n",
       "      <th></th>\n",
       "      <th>first</th>\n",
       "      <th>last</th>\n",
       "    </tr>\n",
       "  </thead>\n",
       "  <tbody>\n",
       "    <tr>\n",
       "      <th>0</th>\n",
       "      <td>George</td>\n",
       "      <td>Bush</td>\n",
       "    </tr>\n",
       "    <tr>\n",
       "      <th>4</th>\n",
       "      <td>George</td>\n",
       "      <td>Washington</td>\n",
       "    </tr>\n",
       "  </tbody>\n",
       "</table>\n",
       "</div>"
      ],
      "text/plain": [
       "    first        last\n",
       "0  George        Bush\n",
       "4  George  Washington"
      ]
     },
     "execution_count": 49,
     "metadata": {},
     "output_type": "execute_result"
    }
   ],
   "source": [
    "grp_data = grouped.get_group('George')\n",
    "grp_data"
   ]
  },
  {
   "cell_type": "markdown",
   "id": "11f55e82",
   "metadata": {},
   "source": [
    "##### Data Operation Using Sorting"
   ]
  },
  {
   "cell_type": "code",
   "execution_count": 50,
   "id": "8c4d8bae",
   "metadata": {
    "ExecuteTime": {
     "end_time": "2021-06-25T11:38:01.108254Z",
     "start_time": "2021-06-25T11:38:01.000248Z"
    }
   },
   "outputs": [
    {
     "data": {
      "text/html": [
       "<div>\n",
       "<style scoped>\n",
       "    .dataframe tbody tr th:only-of-type {\n",
       "        vertical-align: middle;\n",
       "    }\n",
       "\n",
       "    .dataframe tbody tr th {\n",
       "        vertical-align: top;\n",
       "    }\n",
       "\n",
       "    .dataframe thead th {\n",
       "        text-align: right;\n",
       "    }\n",
       "</style>\n",
       "<table border=\"1\" class=\"dataframe\">\n",
       "  <thead>\n",
       "    <tr style=\"text-align: right;\">\n",
       "      <th></th>\n",
       "      <th>first</th>\n",
       "      <th>last</th>\n",
       "    </tr>\n",
       "  </thead>\n",
       "  <tbody>\n",
       "    <tr>\n",
       "      <th>1</th>\n",
       "      <td>Bill</td>\n",
       "      <td>clinton</td>\n",
       "    </tr>\n",
       "    <tr>\n",
       "      <th>0</th>\n",
       "      <td>George</td>\n",
       "      <td>Bush</td>\n",
       "    </tr>\n",
       "    <tr>\n",
       "      <th>4</th>\n",
       "      <td>George</td>\n",
       "      <td>Washington</td>\n",
       "    </tr>\n",
       "    <tr>\n",
       "      <th>3</th>\n",
       "      <td>Jimmy</td>\n",
       "      <td>Carter</td>\n",
       "    </tr>\n",
       "    <tr>\n",
       "      <th>2</th>\n",
       "      <td>Ronald</td>\n",
       "      <td>Regan</td>\n",
       "    </tr>\n",
       "  </tbody>\n",
       "</table>\n",
       "</div>"
      ],
      "text/plain": [
       "    first        last\n",
       "1    Bill     clinton\n",
       "0  George        Bush\n",
       "4  George  Washington\n",
       "3   Jimmy      Carter\n",
       "2  Ronald       Regan"
      ]
     },
     "execution_count": 50,
     "metadata": {},
     "output_type": "execute_result"
    }
   ],
   "source": [
    "#Sort values by first name\n",
    "df_president_name.sort_values('first')"
   ]
  },
  {
   "cell_type": "markdown",
   "id": "86951608",
   "metadata": {},
   "source": [
    "##### Data Operations - Example\n",
    "__Problem Statement:__ \n",
    "\n",
    "Demonstrate how to perform data operations such as merge, find duplicates & concatenate the datasets\n",
    "\n",
    "__Merge Dataframes__\n"
   ]
  },
  {
   "cell_type": "code",
   "execution_count": 51,
   "id": "a7af83eb",
   "metadata": {
    "ExecuteTime": {
     "end_time": "2021-06-25T11:38:01.183258Z",
     "start_time": "2021-06-25T11:38:01.111254Z"
    }
   },
   "outputs": [
    {
     "data": {
      "text/html": [
       "<div>\n",
       "<style scoped>\n",
       "    .dataframe tbody tr th:only-of-type {\n",
       "        vertical-align: middle;\n",
       "    }\n",
       "\n",
       "    .dataframe tbody tr th {\n",
       "        vertical-align: top;\n",
       "    }\n",
       "\n",
       "    .dataframe thead th {\n",
       "        text-align: right;\n",
       "    }\n",
       "</style>\n",
       "<table border=\"1\" class=\"dataframe\">\n",
       "  <thead>\n",
       "    <tr style=\"text-align: right;\">\n",
       "      <th></th>\n",
       "      <th>student</th>\n",
       "      <th>ID</th>\n",
       "    </tr>\n",
       "  </thead>\n",
       "  <tbody>\n",
       "    <tr>\n",
       "      <th>0</th>\n",
       "      <td>Tom</td>\n",
       "      <td>10</td>\n",
       "    </tr>\n",
       "    <tr>\n",
       "      <th>1</th>\n",
       "      <td>David</td>\n",
       "      <td>22</td>\n",
       "    </tr>\n",
       "  </tbody>\n",
       "</table>\n",
       "</div>"
      ],
      "text/plain": [
       "  student  ID\n",
       "0     Tom  10\n",
       "1   David  22"
      ]
     },
     "execution_count": 51,
     "metadata": {},
     "output_type": "execute_result"
    }
   ],
   "source": [
    "import pandas as pd\n",
    "\n",
    "#define the studebt dataFrame with Math Data\n",
    "df_student_math = pd.DataFrame({'student':['Tom','jack','Don','Ram','jeff','David'],'ID':[10,56,31,85,9,22]})\n",
    "#define the studebt dataFrame with Math Data\n",
    "df_student_science = pd.DataFrame({'student':['Tom','Ram','David'],'ID':[10,12,22]})\n",
    "\n",
    "#merge both dataFrame to form a single dataframe with math and Science data\n",
    "pd.merge(df_student_math,df_student_science)"
   ]
  },
  {
   "cell_type": "markdown",
   "id": "735413aa",
   "metadata": {},
   "source": [
    "__#Merge with key on student__"
   ]
  },
  {
   "cell_type": "code",
   "execution_count": 52,
   "id": "7ff461f2",
   "metadata": {
    "ExecuteTime": {
     "end_time": "2021-06-25T11:38:01.256262Z",
     "start_time": "2021-06-25T11:38:01.189259Z"
    }
   },
   "outputs": [
    {
     "data": {
      "text/html": [
       "<div>\n",
       "<style scoped>\n",
       "    .dataframe tbody tr th:only-of-type {\n",
       "        vertical-align: middle;\n",
       "    }\n",
       "\n",
       "    .dataframe tbody tr th {\n",
       "        vertical-align: top;\n",
       "    }\n",
       "\n",
       "    .dataframe thead th {\n",
       "        text-align: right;\n",
       "    }\n",
       "</style>\n",
       "<table border=\"1\" class=\"dataframe\">\n",
       "  <thead>\n",
       "    <tr style=\"text-align: right;\">\n",
       "      <th></th>\n",
       "      <th>student</th>\n",
       "      <th>ID_x</th>\n",
       "      <th>ID_y</th>\n",
       "    </tr>\n",
       "  </thead>\n",
       "  <tbody>\n",
       "    <tr>\n",
       "      <th>0</th>\n",
       "      <td>Tom</td>\n",
       "      <td>10</td>\n",
       "      <td>10</td>\n",
       "    </tr>\n",
       "    <tr>\n",
       "      <th>1</th>\n",
       "      <td>Ram</td>\n",
       "      <td>85</td>\n",
       "      <td>12</td>\n",
       "    </tr>\n",
       "    <tr>\n",
       "      <th>2</th>\n",
       "      <td>David</td>\n",
       "      <td>22</td>\n",
       "      <td>22</td>\n",
       "    </tr>\n",
       "  </tbody>\n",
       "</table>\n",
       "</div>"
      ],
      "text/plain": [
       "  student  ID_x  ID_y\n",
       "0     Tom    10    10\n",
       "1     Ram    85    12\n",
       "2   David    22    22"
      ]
     },
     "execution_count": 52,
     "metadata": {},
     "output_type": "execute_result"
    }
   ],
   "source": [
    "#Merge with key on student\n",
    "pd.merge(df_student_math,df_student_science,on='student')"
   ]
  },
  {
   "cell_type": "markdown",
   "id": "bfb1faa7",
   "metadata": {},
   "source": [
    "__Merge left join on key ID and also fill NaN values with 'x'__"
   ]
  },
  {
   "cell_type": "code",
   "execution_count": 53,
   "id": "bfaae618",
   "metadata": {
    "ExecuteTime": {
     "end_time": "2021-06-25T11:38:01.298265Z",
     "start_time": "2021-06-25T11:38:01.259263Z"
    },
    "scrolled": false
   },
   "outputs": [
    {
     "data": {
      "text/html": [
       "<div>\n",
       "<style scoped>\n",
       "    .dataframe tbody tr th:only-of-type {\n",
       "        vertical-align: middle;\n",
       "    }\n",
       "\n",
       "    .dataframe tbody tr th {\n",
       "        vertical-align: top;\n",
       "    }\n",
       "\n",
       "    .dataframe thead th {\n",
       "        text-align: right;\n",
       "    }\n",
       "</style>\n",
       "<table border=\"1\" class=\"dataframe\">\n",
       "  <thead>\n",
       "    <tr style=\"text-align: right;\">\n",
       "      <th></th>\n",
       "      <th>student</th>\n",
       "      <th>ID_x</th>\n",
       "      <th>ID_y</th>\n",
       "    </tr>\n",
       "  </thead>\n",
       "  <tbody>\n",
       "    <tr>\n",
       "      <th>0</th>\n",
       "      <td>Tom</td>\n",
       "      <td>10</td>\n",
       "      <td>10.0</td>\n",
       "    </tr>\n",
       "    <tr>\n",
       "      <th>1</th>\n",
       "      <td>jack</td>\n",
       "      <td>56</td>\n",
       "      <td>x</td>\n",
       "    </tr>\n",
       "    <tr>\n",
       "      <th>2</th>\n",
       "      <td>Don</td>\n",
       "      <td>31</td>\n",
       "      <td>x</td>\n",
       "    </tr>\n",
       "    <tr>\n",
       "      <th>3</th>\n",
       "      <td>Ram</td>\n",
       "      <td>85</td>\n",
       "      <td>12.0</td>\n",
       "    </tr>\n",
       "    <tr>\n",
       "      <th>4</th>\n",
       "      <td>jeff</td>\n",
       "      <td>9</td>\n",
       "      <td>x</td>\n",
       "    </tr>\n",
       "    <tr>\n",
       "      <th>5</th>\n",
       "      <td>David</td>\n",
       "      <td>22</td>\n",
       "      <td>22.0</td>\n",
       "    </tr>\n",
       "  </tbody>\n",
       "</table>\n",
       "</div>"
      ],
      "text/plain": [
       "  student  ID_x  ID_y\n",
       "0     Tom    10  10.0\n",
       "1    jack    56     x\n",
       "2     Don    31     x\n",
       "3     Ram    85  12.0\n",
       "4    jeff     9     x\n",
       "5   David    22  22.0"
      ]
     },
     "execution_count": 53,
     "metadata": {},
     "output_type": "execute_result"
    }
   ],
   "source": [
    "#Merge left join on key ID and also fill NaN values with 'x'\n",
    "pd.merge(df_student_math,df_student_science,on='student',how='left').fillna('x')"
   ]
  },
  {
   "cell_type": "markdown",
   "id": "e2873d88",
   "metadata": {},
   "source": [
    "__Concatenate Dataframe__"
   ]
  },
  {
   "cell_type": "code",
   "execution_count": 54,
   "id": "d6e4739e",
   "metadata": {
    "ExecuteTime": {
     "end_time": "2021-06-25T11:38:01.390270Z",
     "start_time": "2021-06-25T11:38:01.301265Z"
    },
    "scrolled": true
   },
   "outputs": [
    {
     "data": {
      "text/html": [
       "<div>\n",
       "<style scoped>\n",
       "    .dataframe tbody tr th:only-of-type {\n",
       "        vertical-align: middle;\n",
       "    }\n",
       "\n",
       "    .dataframe tbody tr th {\n",
       "        vertical-align: top;\n",
       "    }\n",
       "\n",
       "    .dataframe thead th {\n",
       "        text-align: right;\n",
       "    }\n",
       "</style>\n",
       "<table border=\"1\" class=\"dataframe\">\n",
       "  <thead>\n",
       "    <tr style=\"text-align: right;\">\n",
       "      <th></th>\n",
       "      <th>student</th>\n",
       "      <th>ID</th>\n",
       "    </tr>\n",
       "  </thead>\n",
       "  <tbody>\n",
       "    <tr>\n",
       "      <th>0</th>\n",
       "      <td>Tom</td>\n",
       "      <td>10</td>\n",
       "    </tr>\n",
       "    <tr>\n",
       "      <th>1</th>\n",
       "      <td>jack</td>\n",
       "      <td>56</td>\n",
       "    </tr>\n",
       "    <tr>\n",
       "      <th>2</th>\n",
       "      <td>Don</td>\n",
       "      <td>31</td>\n",
       "    </tr>\n",
       "    <tr>\n",
       "      <th>3</th>\n",
       "      <td>Ram</td>\n",
       "      <td>85</td>\n",
       "    </tr>\n",
       "    <tr>\n",
       "      <th>4</th>\n",
       "      <td>jeff</td>\n",
       "      <td>9</td>\n",
       "    </tr>\n",
       "    <tr>\n",
       "      <th>5</th>\n",
       "      <td>David</td>\n",
       "      <td>22</td>\n",
       "    </tr>\n",
       "    <tr>\n",
       "      <th>6</th>\n",
       "      <td>Tom</td>\n",
       "      <td>10</td>\n",
       "    </tr>\n",
       "    <tr>\n",
       "      <th>7</th>\n",
       "      <td>Ram</td>\n",
       "      <td>12</td>\n",
       "    </tr>\n",
       "    <tr>\n",
       "      <th>8</th>\n",
       "      <td>David</td>\n",
       "      <td>22</td>\n",
       "    </tr>\n",
       "  </tbody>\n",
       "</table>\n",
       "</div>"
      ],
      "text/plain": [
       "  student  ID\n",
       "0     Tom  10\n",
       "1    jack  56\n",
       "2     Don  31\n",
       "3     Ram  85\n",
       "4    jeff   9\n",
       "5   David  22\n",
       "6     Tom  10\n",
       "7     Ram  12\n",
       "8   David  22"
      ]
     },
     "execution_count": 54,
     "metadata": {},
     "output_type": "execute_result"
    }
   ],
   "source": [
    "#Concatenate Dataframe\n",
    "pd.concat([df_student_math,df_student_science],ignore_index=True)"
   ]
  },
  {
   "cell_type": "code",
   "execution_count": 55,
   "id": "bda1ba87",
   "metadata": {
    "ExecuteTime": {
     "end_time": "2021-06-25T11:38:01.463274Z",
     "start_time": "2021-06-25T11:38:01.394270Z"
    },
    "scrolled": false
   },
   "outputs": [
    {
     "data": {
      "text/html": [
       "<div>\n",
       "<style scoped>\n",
       "    .dataframe tbody tr th:only-of-type {\n",
       "        vertical-align: middle;\n",
       "    }\n",
       "\n",
       "    .dataframe tbody tr th {\n",
       "        vertical-align: top;\n",
       "    }\n",
       "\n",
       "    .dataframe thead th {\n",
       "        text-align: right;\n",
       "    }\n",
       "</style>\n",
       "<table border=\"1\" class=\"dataframe\">\n",
       "  <thead>\n",
       "    <tr style=\"text-align: right;\">\n",
       "      <th></th>\n",
       "      <th>student</th>\n",
       "      <th>ID</th>\n",
       "    </tr>\n",
       "  </thead>\n",
       "  <tbody>\n",
       "    <tr>\n",
       "      <th>0</th>\n",
       "      <td>Tom</td>\n",
       "      <td>10</td>\n",
       "    </tr>\n",
       "    <tr>\n",
       "      <th>1</th>\n",
       "      <td>jack</td>\n",
       "      <td>56</td>\n",
       "    </tr>\n",
       "    <tr>\n",
       "      <th>2</th>\n",
       "      <td>Tom</td>\n",
       "      <td>10</td>\n",
       "    </tr>\n",
       "    <tr>\n",
       "      <th>3</th>\n",
       "      <td>Ram</td>\n",
       "      <td>85</td>\n",
       "    </tr>\n",
       "    <tr>\n",
       "      <th>4</th>\n",
       "      <td>jeff</td>\n",
       "      <td>9</td>\n",
       "    </tr>\n",
       "    <tr>\n",
       "      <th>5</th>\n",
       "      <td>jack</td>\n",
       "      <td>22</td>\n",
       "    </tr>\n",
       "  </tbody>\n",
       "</table>\n",
       "</div>"
      ],
      "text/plain": [
       "  student  ID\n",
       "0     Tom  10\n",
       "1    jack  56\n",
       "2     Tom  10\n",
       "3     Ram  85\n",
       "4    jeff   9\n",
       "5    jack  22"
      ]
     },
     "execution_count": 55,
     "metadata": {},
     "output_type": "execute_result"
    }
   ],
   "source": [
    "#Define new dataframe with student survey data\n",
    "df_student_survey_data = pd.DataFrame({'student':['Tom','jack','Tom','Ram','jeff','jack'],'ID':[10,56,10,85,9,22]})\n",
    "df_student_survey_data"
   ]
  },
  {
   "cell_type": "markdown",
   "id": "749e90d2",
   "metadata": {},
   "source": [
    "__check for the duplicate values__"
   ]
  },
  {
   "cell_type": "code",
   "execution_count": 56,
   "id": "2ce1b024",
   "metadata": {
    "ExecuteTime": {
     "end_time": "2021-06-25T11:38:01.520277Z",
     "start_time": "2021-06-25T11:38:01.465274Z"
    },
    "scrolled": true
   },
   "outputs": [
    {
     "data": {
      "text/plain": [
       "0    False\n",
       "1    False\n",
       "2     True\n",
       "3    False\n",
       "4    False\n",
       "5    False\n",
       "dtype: bool"
      ]
     },
     "execution_count": 56,
     "metadata": {},
     "output_type": "execute_result"
    }
   ],
   "source": [
    "#check for the duplicate values\n",
    "df_student_survey_data.duplicated()"
   ]
  },
  {
   "cell_type": "markdown",
   "id": "5ee70cab",
   "metadata": {},
   "source": [
    "__drop duplicate values with students as key__"
   ]
  },
  {
   "cell_type": "code",
   "execution_count": 57,
   "id": "22c9aaf2",
   "metadata": {
    "ExecuteTime": {
     "end_time": "2021-06-25T11:38:01.563280Z",
     "start_time": "2021-06-25T11:38:01.523278Z"
    },
    "scrolled": true
   },
   "outputs": [
    {
     "data": {
      "text/html": [
       "<div>\n",
       "<style scoped>\n",
       "    .dataframe tbody tr th:only-of-type {\n",
       "        vertical-align: middle;\n",
       "    }\n",
       "\n",
       "    .dataframe tbody tr th {\n",
       "        vertical-align: top;\n",
       "    }\n",
       "\n",
       "    .dataframe thead th {\n",
       "        text-align: right;\n",
       "    }\n",
       "</style>\n",
       "<table border=\"1\" class=\"dataframe\">\n",
       "  <thead>\n",
       "    <tr style=\"text-align: right;\">\n",
       "      <th></th>\n",
       "      <th>student</th>\n",
       "      <th>ID</th>\n",
       "    </tr>\n",
       "  </thead>\n",
       "  <tbody>\n",
       "    <tr>\n",
       "      <th>0</th>\n",
       "      <td>Tom</td>\n",
       "      <td>10</td>\n",
       "    </tr>\n",
       "    <tr>\n",
       "      <th>1</th>\n",
       "      <td>jack</td>\n",
       "      <td>56</td>\n",
       "    </tr>\n",
       "    <tr>\n",
       "      <th>3</th>\n",
       "      <td>Ram</td>\n",
       "      <td>85</td>\n",
       "    </tr>\n",
       "    <tr>\n",
       "      <th>4</th>\n",
       "      <td>jeff</td>\n",
       "      <td>9</td>\n",
       "    </tr>\n",
       "  </tbody>\n",
       "</table>\n",
       "</div>"
      ],
      "text/plain": [
       "  student  ID\n",
       "0     Tom  10\n",
       "1    jack  56\n",
       "3     Ram  85\n",
       "4    jeff   9"
      ]
     },
     "execution_count": 57,
     "metadata": {},
     "output_type": "execute_result"
    }
   ],
   "source": [
    "#drop duplicate values with students as key\n",
    "df_student_survey_data.drop_duplicates('student')"
   ]
  },
  {
   "cell_type": "markdown",
   "id": "373300e6",
   "metadata": {},
   "source": [
    "__drop duplicate values with ID as key__"
   ]
  },
  {
   "cell_type": "code",
   "execution_count": 58,
   "id": "2ba1fc0c",
   "metadata": {
    "ExecuteTime": {
     "end_time": "2021-06-25T11:38:01.617283Z",
     "start_time": "2021-06-25T11:38:01.565280Z"
    }
   },
   "outputs": [
    {
     "data": {
      "text/html": [
       "<div>\n",
       "<style scoped>\n",
       "    .dataframe tbody tr th:only-of-type {\n",
       "        vertical-align: middle;\n",
       "    }\n",
       "\n",
       "    .dataframe tbody tr th {\n",
       "        vertical-align: top;\n",
       "    }\n",
       "\n",
       "    .dataframe thead th {\n",
       "        text-align: right;\n",
       "    }\n",
       "</style>\n",
       "<table border=\"1\" class=\"dataframe\">\n",
       "  <thead>\n",
       "    <tr style=\"text-align: right;\">\n",
       "      <th></th>\n",
       "      <th>student</th>\n",
       "      <th>ID</th>\n",
       "    </tr>\n",
       "  </thead>\n",
       "  <tbody>\n",
       "    <tr>\n",
       "      <th>0</th>\n",
       "      <td>Tom</td>\n",
       "      <td>10</td>\n",
       "    </tr>\n",
       "    <tr>\n",
       "      <th>1</th>\n",
       "      <td>jack</td>\n",
       "      <td>56</td>\n",
       "    </tr>\n",
       "    <tr>\n",
       "      <th>3</th>\n",
       "      <td>Ram</td>\n",
       "      <td>85</td>\n",
       "    </tr>\n",
       "    <tr>\n",
       "      <th>4</th>\n",
       "      <td>jeff</td>\n",
       "      <td>9</td>\n",
       "    </tr>\n",
       "    <tr>\n",
       "      <th>5</th>\n",
       "      <td>jack</td>\n",
       "      <td>22</td>\n",
       "    </tr>\n",
       "  </tbody>\n",
       "</table>\n",
       "</div>"
      ],
      "text/plain": [
       "  student  ID\n",
       "0     Tom  10\n",
       "1    jack  56\n",
       "3     Ram  85\n",
       "4    jeff   9\n",
       "5    jack  22"
      ]
     },
     "execution_count": 58,
     "metadata": {},
     "output_type": "execute_result"
    }
   ],
   "source": [
    "#drop duplicate values with ID as key\n",
    "df_student_survey_data.drop_duplicates('ID')"
   ]
  },
  {
   "cell_type": "markdown",
   "id": "b5d8d00c",
   "metadata": {},
   "source": [
    "#### Data Standardization\n",
    "As a DataScientist there can be several instances where we will observe unusual data values such as outliers. Such numbers may be spread in an abnormal distance than the mean value.\n",
    "\n",
    "__Standardization__ is one of the most common ways that enables us to analyze the dataset and catch the outliers."
   ]
  },
  {
   "cell_type": "code",
   "execution_count": 59,
   "id": "cb9b2654",
   "metadata": {
    "ExecuteTime": {
     "end_time": "2021-06-25T11:38:01.689287Z",
     "start_time": "2021-06-25T11:38:01.622283Z"
    }
   },
   "outputs": [
    {
     "data": {
      "text/plain": [
       "jack       1.210437\n",
       "lewis      0.292174\n",
       "patrick   -0.626088\n",
       "rich       0.626088\n",
       "kelly      0.125218\n",
       "paula     -1.627829\n",
       "Name: test1, dtype: float64"
      ]
     },
     "execution_count": 59,
     "metadata": {},
     "output_type": "execute_result"
    }
   ],
   "source": [
    "#Create a function to return the standardize value\n",
    "def standardize_tests(test):\n",
    "    return (test-test.mean())/test.std()\n",
    "standardize_tests(df_test_scores['test1'])"
   ]
  },
  {
   "cell_type": "code",
   "execution_count": 60,
   "id": "6ad5ddc8",
   "metadata": {
    "ExecuteTime": {
     "end_time": "2021-06-25T11:38:01.757291Z",
     "start_time": "2021-06-25T11:38:01.696288Z"
    }
   },
   "outputs": [
    {
     "data": {
      "text/html": [
       "<div>\n",
       "<style scoped>\n",
       "    .dataframe tbody tr th:only-of-type {\n",
       "        vertical-align: middle;\n",
       "    }\n",
       "\n",
       "    .dataframe tbody tr th {\n",
       "        vertical-align: top;\n",
       "    }\n",
       "\n",
       "    .dataframe thead th {\n",
       "        text-align: right;\n",
       "    }\n",
       "</style>\n",
       "<table border=\"1\" class=\"dataframe\">\n",
       "  <thead>\n",
       "    <tr style=\"text-align: right;\">\n",
       "      <th></th>\n",
       "      <th>test1</th>\n",
       "      <th>test2</th>\n",
       "    </tr>\n",
       "  </thead>\n",
       "  <tbody>\n",
       "    <tr>\n",
       "      <th>jack</th>\n",
       "      <td>1.210437</td>\n",
       "      <td>-0.935276</td>\n",
       "    </tr>\n",
       "    <tr>\n",
       "      <th>lewis</th>\n",
       "      <td>0.292174</td>\n",
       "      <td>1.438886</td>\n",
       "    </tr>\n",
       "    <tr>\n",
       "      <th>patrick</th>\n",
       "      <td>-0.626088</td>\n",
       "      <td>0.791387</td>\n",
       "    </tr>\n",
       "    <tr>\n",
       "      <th>rich</th>\n",
       "      <td>0.626088</td>\n",
       "      <td>-1.151109</td>\n",
       "    </tr>\n",
       "    <tr>\n",
       "      <th>kelly</th>\n",
       "      <td>0.125218</td>\n",
       "      <td>-0.287777</td>\n",
       "    </tr>\n",
       "    <tr>\n",
       "      <th>paula</th>\n",
       "      <td>-1.627829</td>\n",
       "      <td>0.143889</td>\n",
       "    </tr>\n",
       "  </tbody>\n",
       "</table>\n",
       "</div>"
      ],
      "text/plain": [
       "            test1     test2\n",
       "jack     1.210437 -0.935276\n",
       "lewis    0.292174  1.438886\n",
       "patrick -0.626088  0.791387\n",
       "rich     0.626088 -1.151109\n",
       "kelly    0.125218 -0.287777\n",
       "paula   -1.627829  0.143889"
      ]
     },
     "execution_count": 60,
     "metadata": {},
     "output_type": "execute_result"
    }
   ],
   "source": [
    "#Apply the function to the entire dataset\n",
    "def standardize_test_scores(datafrm):\n",
    "    return datafrm.apply(standardize_tests)\n",
    "standardize_test_scores(df_test_scores)\n",
    "#Standardized test data is applied for the entire DataFrame"
   ]
  },
  {
   "cell_type": "markdown",
   "id": "32521259",
   "metadata": {
    "ExecuteTime": {
     "end_time": "2021-06-25T10:44:21.531105Z",
     "start_time": "2021-06-25T10:44:19.497988Z"
    }
   },
   "source": [
    "The major Distinction between __.apply()__ and __.applymap()__ methods is that\n",
    "* __.apply()__: returns series or dataframe\n",
    "* __.applymap()__: returns only dataframe. (refer 8.1)"
   ]
  },
  {
   "cell_type": "markdown",
   "id": "b862e001",
   "metadata": {},
   "source": [
    "#### File Read and Write Support\n",
    "Pandas Support multiple files for data analysis, which can be read and written with the help of methods like \n",
    "* \"read_fileextension\" - indicates ability to read a file type\n",
    "* \"to_fileextension\" - indicates ability to write a file type\n",
    "\n",
    "Some of the files are\n",
    "* excel\n",
    "    * read_excel\n",
    "    * to_excel\n",
    "* hdf\n",
    "    * read_hdf\n",
    "    * to_hdf \n",
    "* clipboard\n",
    "    * read_clipboard\n",
    "    * to_clipboard\n",
    "* html\n",
    "    * read_html\n",
    "    * to_html\n",
    "* pickle\n",
    "    * read_pickle\n",
    "    * to_pickle\n",
    "* DTA\n",
    "    * read_stata\n",
    "    * to_stata\n",
    "* SAS\n",
    "    * read_sas\n",
    "    * to_sas\n",
    "* SQL\n",
    "    * read_sql\n",
    "    * to_sql\n",
    "* json\n",
    "    * read_json\n",
    "    * to_json\n",
    "* CSV\n",
    "    * read_csv\n",
    "    * to_csv"
   ]
  },
  {
   "cell_type": "markdown",
   "id": "3e9c376b",
   "metadata": {},
   "source": [
    "#### Pandas SQL Operation\n",
    "SQL operations using Pandas and in-memory database SQLite3"
   ]
  },
  {
   "cell_type": "code",
   "execution_count": 61,
   "id": "5d7437bb",
   "metadata": {
    "ExecuteTime": {
     "end_time": "2021-06-25T11:38:01.806294Z",
     "start_time": "2021-06-25T11:38:01.762291Z"
    }
   },
   "outputs": [
    {
     "data": {
      "text/plain": [
       "[]"
      ]
     },
     "execution_count": 61,
     "metadata": {},
     "output_type": "execute_result"
    }
   ],
   "source": [
    "#import pandas library\n",
    "import pandas as pd\n",
    "#import Sqlite3\n",
    "import sqlite3\n",
    "\n",
    "#create SQL table\n",
    "create_table = \"\"\"CREATE TABLE student_score\n",
    "(Id INTEGER, Name VARCHAR(20), Math REAL,\n",
    "Science REAL\n",
    ");\"\"\"\n",
    "\n",
    "#execute the SQL statement\n",
    "executeSQL = sqlite3.connect(':memory:')\n",
    "executeSQL.execute(create_table)\n",
    "executeSQL.commit()\n",
    "\n",
    "#prepare a SQL query\n",
    "SQL_query = executeSQL.execute('select * from student_score')\n",
    "\n",
    "#fetch result from SQLlite database\n",
    "resulset = SQL_query.fetchall()\n",
    "\n",
    "#view result(empty data)\n",
    "resulset"
   ]
  },
  {
   "cell_type": "code",
   "execution_count": 62,
   "id": "677b6797",
   "metadata": {
    "ExecuteTime": {
     "end_time": "2021-06-25T11:38:01.858297Z",
     "start_time": "2021-06-25T11:38:01.808294Z"
    }
   },
   "outputs": [
    {
     "data": {
      "text/plain": [
       "[(10, 'Jack', 85.0, 92.0),\n",
       " (29, 'Tom', 73.0, 89.0),\n",
       " (65, 'Ram', 65.6, 77.0),\n",
       " (5, 'Steve', 55.0, 91.0)]"
      ]
     },
     "execution_count": 62,
     "metadata": {},
     "output_type": "execute_result"
    }
   ],
   "source": [
    "#prepare records to be inserted into SQL table through SQL statement\n",
    "insertSQL = [(10,'Jack',85,92),\n",
    "            (29,'Tom',73,89),\n",
    "            (65,'Ram',65.6,77),\n",
    "            (5,'Steve',55,91)]\n",
    "\n",
    "#insert records into SQL table through SQL statement\n",
    "insert_statement = \"Insert into student_score values(?,?,?,?)\"\n",
    "executeSQL.executemany(insert_statement,insertSQL)\n",
    "executeSQL.commit()\n",
    "\n",
    "#prepare SQL query\n",
    "SQL_query = executeSQL.execute(\"select * from student_score\")\n",
    "\n",
    "#fetch the resultset for the query\n",
    "resulset = SQL_query.fetchall()\n",
    "\n",
    "#view the resultset\n",
    "resulset"
   ]
  },
  {
   "cell_type": "code",
   "execution_count": 63,
   "id": "a02a1134",
   "metadata": {
    "ExecuteTime": {
     "end_time": "2021-06-25T11:38:01.909300Z",
     "start_time": "2021-06-25T11:38:01.860297Z"
    }
   },
   "outputs": [
    {
     "data": {
      "text/html": [
       "<div>\n",
       "<style scoped>\n",
       "    .dataframe tbody tr th:only-of-type {\n",
       "        vertical-align: middle;\n",
       "    }\n",
       "\n",
       "    .dataframe tbody tr th {\n",
       "        vertical-align: top;\n",
       "    }\n",
       "\n",
       "    .dataframe thead th {\n",
       "        text-align: right;\n",
       "    }\n",
       "</style>\n",
       "<table border=\"1\" class=\"dataframe\">\n",
       "  <thead>\n",
       "    <tr style=\"text-align: right;\">\n",
       "      <th></th>\n",
       "      <th>Id</th>\n",
       "      <th>Name</th>\n",
       "      <th>Math</th>\n",
       "      <th>Science</th>\n",
       "    </tr>\n",
       "  </thead>\n",
       "  <tbody>\n",
       "    <tr>\n",
       "      <th>0</th>\n",
       "      <td>10</td>\n",
       "      <td>Jack</td>\n",
       "      <td>85.0</td>\n",
       "      <td>92.0</td>\n",
       "    </tr>\n",
       "    <tr>\n",
       "      <th>1</th>\n",
       "      <td>29</td>\n",
       "      <td>Tom</td>\n",
       "      <td>73.0</td>\n",
       "      <td>89.0</td>\n",
       "    </tr>\n",
       "    <tr>\n",
       "      <th>2</th>\n",
       "      <td>65</td>\n",
       "      <td>Ram</td>\n",
       "      <td>65.6</td>\n",
       "      <td>77.0</td>\n",
       "    </tr>\n",
       "    <tr>\n",
       "      <th>3</th>\n",
       "      <td>5</td>\n",
       "      <td>Steve</td>\n",
       "      <td>55.0</td>\n",
       "      <td>91.0</td>\n",
       "    </tr>\n",
       "  </tbody>\n",
       "</table>\n",
       "</div>"
      ],
      "text/plain": [
       "   Id   Name  Math  Science\n",
       "0  10   Jack  85.0     92.0\n",
       "1  29    Tom  73.0     89.0\n",
       "2  65    Ram  65.6     77.0\n",
       "3   5  Steve  55.0     91.0"
      ]
     },
     "execution_count": 63,
     "metadata": {},
     "output_type": "execute_result"
    }
   ],
   "source": [
    "#put the records together in dataframe\n",
    "df_student_records = pd.DataFrame(resulset,columns=list(zip(*SQL_query.description))[0])\n",
    "\n",
    "#view the records in pandas dataframe\n",
    "df_student_records"
   ]
  },
  {
   "cell_type": "code",
   "execution_count": null,
   "id": "7b3da905",
   "metadata": {},
   "outputs": [],
   "source": []
  }
 ],
 "metadata": {
  "kernelspec": {
   "display_name": "Python 3",
   "language": "python",
   "name": "python3"
  },
  "language_info": {
   "codemirror_mode": {
    "name": "ipython",
    "version": 3
   },
   "file_extension": ".py",
   "mimetype": "text/x-python",
   "name": "python",
   "nbconvert_exporter": "python",
   "pygments_lexer": "ipython3",
   "version": "3.8.10"
  },
  "toc": {
   "base_numbering": 1,
   "nav_menu": {},
   "number_sections": true,
   "sideBar": true,
   "skip_h1_title": true,
   "title_cell": "Table of Contents",
   "title_sidebar": "Contents",
   "toc_cell": false,
   "toc_position": {
    "height": "calc(100% - 180px)",
    "left": "10px",
    "top": "150px",
    "width": "273.2px"
   },
   "toc_section_display": true,
   "toc_window_display": true
  }
 },
 "nbformat": 4,
 "nbformat_minor": 5
}
