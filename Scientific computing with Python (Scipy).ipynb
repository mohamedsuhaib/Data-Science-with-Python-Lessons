{
 "cells": [
  {
   "cell_type": "markdown",
   "id": "2104caae",
   "metadata": {},
   "source": [
    "# Scientific computing with Python (Scipy)"
   ]
  },
  {
   "cell_type": "markdown",
   "id": "ec2c14e4",
   "metadata": {},
   "source": [
    "#### Scipy\n",
    "\n",
    "SciPy has built-in packages that help in handling the scientific domains.\n",
    "\n",
    "some of the domains are:\n",
    "1. Space Science\n",
    "2. Image Science\n",
    "3. Statistics\n",
    "3. Mathematical equations\n",
    "4. Platform Integration\n",
    "5. Signal processing\n",
    "6. Optimization"
   ]
  },
  {
   "cell_type": "markdown",
   "id": "e333ce8d",
   "metadata": {},
   "source": [
    "#### SciPy and Its Characteristics\n",
    "\n",
    "1. Built-in mathematical libraries and functions\n",
    "2. High-level commands for data manipulation and visualization\n",
    "3. Efficient and fast data processing\n",
    "4. Integrates well with multiple systems and environments\n",
    "5. Large collection of sub-packages for different scientific domains\n",
    "6. Simplifies scientific application development"
   ]
  },
  {
   "cell_type": "markdown",
   "id": "37b3a381",
   "metadata": {},
   "source": [
    "#### SciPy Packages\n",
    "\n",
    "Some widely used packages are:\n",
    "* IO\n",
    "* Optimize\n",
    "* Weave Packages\n",
    "* Statistics\n",
    "* Integration \n",
    "* Linear Algebra"
   ]
  },
  {
   "cell_type": "markdown",
   "id": "4979992f",
   "metadata": {},
   "source": [
    "#### Introduction of SciPy Sub-Package\n",
    "\n",
    "SciPy has multiple sub-packages which handle different scientific domains.\n",
    "* __cluster__: Clustering Algorithm\n",
    "* __constants__: Physical and mathematical constant\n",
    "* __fftpack__: Fast Fourier Transform routines\n",
    "* __integrate__: Integration and ordinary differential equation solver\n",
    "* __Spatial__: Spatial data structures and algorithms\n",
    "* __interpolate__: Interpolation and smoothing splines\n",
    "* __IO__: Input and Output\n",
    "* __linalg__: Linear algebra\n",
    "* __ndimage__: N-dimensional image processing\n",
    "* __odr__: Orthogonal distance regression\n",
    "* __optimize__: Optimization and root-finding routines\n",
    "* __signal__: Signal processing\n",
    "* __sparse__: Sparse matrices and associated routines\n",
    "* __weave__: C/C++ integration\n",
    "* __stats__: Statistical distributions and functions\n",
    "* __special__: Special functions\n"
   ]
  },
  {
   "cell_type": "markdown",
   "id": "213762d6",
   "metadata": {},
   "source": [
    "#### SciPy Sub-Package: Integration\n",
    "\n",
    "SciPy provides integration techniques that solve mathematical sequences and series,  or perform function approximation.\n",
    "\n",
    "__General integration (quad)__\n",
    "* integrate.quad(f, a, b)\n",
    "\n",
    "__General multiple integration (dblquad, tplquad, nquad)__\n",
    "* integrate.dblquad()\n",
    "* integrate.tplquad()\n",
    "* integrate.nquad()\n",
    "\n",
    "The limits of all inner integrals need to be defined as functions."
   ]
  },
  {
   "cell_type": "markdown",
   "id": "d3d539a4",
   "metadata": {},
   "source": [
    "This example shows you how to perform quad integration. "
   ]
  },
  {
   "cell_type": "code",
   "execution_count": 1,
   "id": "5be88287",
   "metadata": {
    "ExecuteTime": {
     "end_time": "2021-06-20T15:56:28.576032Z",
     "start_time": "2021-06-20T15:56:28.003999Z"
    }
   },
   "outputs": [
    {
     "data": {
      "text/plain": [
       "(0.5, 5.551115123125783e-15)"
      ]
     },
     "execution_count": 1,
     "metadata": {},
     "output_type": "execute_result"
    }
   ],
   "source": [
    "#Import quad from integrate sub-package\n",
    "from scipy.integrate import quad\n",
    "\n",
    "#Define function for integration of x\n",
    "def integrateFunction(x):\n",
    "    return x\n",
    "\n",
    "#Perform quad integration for function of x for limit 0 to 1 \n",
    "quad(integrateFunction, 0, 1)"
   ]
  },
  {
   "cell_type": "code",
   "execution_count": 2,
   "id": "1d7795b4",
   "metadata": {
    "ExecuteTime": {
     "end_time": "2021-06-20T15:56:28.585033Z",
     "start_time": "2021-06-20T15:56:28.579032Z"
    }
   },
   "outputs": [
    {
     "data": {
      "text/plain": [
       "(3.5, 3.885780586188048e-14)"
      ]
     },
     "execution_count": 2,
     "metadata": {},
     "output_type": "execute_result"
    }
   ],
   "source": [
    "#Define function for ax + b\n",
    "def integratedFn(x,a,b):\n",
    "    return x*a+b\n",
    "\n",
    "#Declare value of a and b\n",
    "a=3\n",
    "b=2\n",
    "\n",
    "#Perform quad integration and pass functions and arguments\n",
    "quad(integratedFn, 0, 1, args=(a, b))"
   ]
  },
  {
   "cell_type": "markdown",
   "id": "6fe49adc",
   "metadata": {},
   "source": [
    "This example shows you how to perform multiple integration. "
   ]
  },
  {
   "cell_type": "code",
   "execution_count": 3,
   "id": "989bff9d",
   "metadata": {
    "ExecuteTime": {
     "end_time": "2021-06-20T15:56:28.636036Z",
     "start_time": "2021-06-20T15:56:28.587033Z"
    }
   },
   "outputs": [
    {
     "data": {
      "text/plain": [
       "(3.0, 4.436070580899685e-14)"
      ]
     },
     "execution_count": 3,
     "metadata": {},
     "output_type": "execute_result"
    }
   ],
   "source": [
    "#import integrate package sub-package\n",
    "import scipy.integrate as integrate\n",
    "\n",
    "#Define function for x+y\n",
    "def f(x,y):\n",
    "    return x + y\n",
    "\n",
    "#Perform multiple integration using the lambda built-in function\n",
    "integrate.dblquad(f,0,1,lambda x:0, lambda x:2)"
   ]
  },
  {
   "cell_type": "markdown",
   "id": "27a45023",
   "metadata": {},
   "source": [
    "__Lamda Constructor__"
   ]
  },
  {
   "cell_type": "markdown",
   "id": "90f16d3e",
   "metadata": {},
   "source": [
    "The below expression is composed of:\n",
    "\n",
    "* __The keyword__: lambda\n",
    "* __A bound variable__: x\n",
    "* __A body__: x\n",
    "\n",
    "__lambda x: x__"
   ]
  },
  {
   "cell_type": "markdown",
   "id": "8fc37565",
   "metadata": {},
   "source": [
    "A lambda function is an expression, it can be named. Therefore we could write the code as follows:"
   ]
  },
  {
   "cell_type": "code",
   "execution_count": 4,
   "id": "82f9f78c",
   "metadata": {
    "ExecuteTime": {
     "end_time": "2021-06-20T15:56:28.683038Z",
     "start_time": "2021-06-20T15:56:28.638036Z"
    }
   },
   "outputs": [
    {
     "data": {
      "text/plain": [
       "3"
      ]
     },
     "execution_count": 4,
     "metadata": {},
     "output_type": "execute_result"
    }
   ],
   "source": [
    "add_one = lambda x: x + 1\n",
    "add_one(2)"
   ]
  },
  {
   "cell_type": "markdown",
   "id": "6415a96b",
   "metadata": {},
   "source": [
    "we can apply the function above to an argument by surrounding the function and its argument with parentheses:"
   ]
  },
  {
   "cell_type": "code",
   "execution_count": 5,
   "id": "67bc8a49",
   "metadata": {
    "ExecuteTime": {
     "end_time": "2021-06-20T15:56:28.738041Z",
     "start_time": "2021-06-20T15:56:28.684038Z"
    }
   },
   "outputs": [
    {
     "data": {
      "text/plain": [
       "10"
      ]
     },
     "execution_count": 5,
     "metadata": {},
     "output_type": "execute_result"
    }
   ],
   "source": [
    "#x+1 ==> 9+1 = 10\n",
    "(lambda x: x + 1)(9)"
   ]
  },
  {
   "cell_type": "markdown",
   "id": "857d0b12",
   "metadata": {},
   "source": [
    "The above lambda function is equivalent to writing this:"
   ]
  },
  {
   "cell_type": "code",
   "execution_count": 6,
   "id": "2a780a1e",
   "metadata": {
    "ExecuteTime": {
     "end_time": "2021-06-20T15:56:28.777044Z",
     "start_time": "2021-06-20T15:56:28.740042Z"
    }
   },
   "outputs": [
    {
     "data": {
      "text/plain": [
       "4"
      ]
     },
     "execution_count": 6,
     "metadata": {},
     "output_type": "execute_result"
    }
   ],
   "source": [
    "def add_one(x):\n",
    "    return x + 1\n",
    "add_one(3)"
   ]
  },
  {
   "cell_type": "markdown",
   "id": "f304d428",
   "metadata": {},
   "source": [
    "#### SciPy Sub-Package: Optimization\n",
    "\n",
    "Optimization is a process to improve performance of a system mathematically by fine-tuning the process parameters. \n",
    "\n",
    "SciPy provides several optimization algorithms, such as bfgs, Nelder-Mead simplex, Newton Conjugate Gradient, COBYLA, or SLSQP."
   ]
  },
  {
   "cell_type": "markdown",
   "id": "49dc4671",
   "metadata": {},
   "source": [
    "__Minimization functions__\n",
    "\n",
    "optimize.minimize(f, x0, method=‘BFGS’), \n",
    "where x0 is the lower limit in a given range"
   ]
  },
  {
   "cell_type": "markdown",
   "id": "4d861732",
   "metadata": {},
   "source": [
    "__Root finding, Curve fitting__\n",
    "\n",
    "root(f, x0, method=’hybr’)\n",
    "\n",
    "optimize.curve_fit(f, xdata, ydata)"
   ]
  },
  {
   "cell_type": "code",
   "execution_count": 7,
   "id": "ebf264c5",
   "metadata": {
    "ExecuteTime": {
     "end_time": "2021-06-20T15:56:28.833047Z",
     "start_time": "2021-06-20T15:56:28.780044Z"
    }
   },
   "outputs": [
    {
     "name": "stdout",
     "output_type": "stream",
     "text": [
      "Optimization terminated successfully.\n",
      "         Current function value: -3.246394\n",
      "         Iterations: 5\n",
      "         Function evaluations: 18\n",
      "         Gradient evaluations: 9\n"
     ]
    }
   ],
   "source": [
    "#Import numpy and optimize from SciPy\n",
    "import numpy as np\n",
    "from scipy import optimize\n",
    "\n",
    "#Define function for x\n",
    "def f(x):\n",
    "    #Define function for X^2 + 5 sin x\n",
    "    return x**2 + 5*np.sin(x)\n",
    "\n",
    "#Perform optimize minimize function using bfgs method and options\n",
    "MinimumValue = optimize.minimize(f,x0=2,method='bfgs',options={'disp':True})"
   ]
  },
  {
   "cell_type": "code",
   "execution_count": 8,
   "id": "74495d72",
   "metadata": {
    "ExecuteTime": {
     "end_time": "2021-06-20T15:56:28.875049Z",
     "start_time": "2021-06-20T15:56:28.836047Z"
    }
   },
   "outputs": [
    {
     "data": {
      "text/plain": [
       "      fun: -3.2463942726915214\n",
       " hess_inv: array([[0.15445818]])\n",
       "      jac: array([-4.76837158e-07])\n",
       "  message: 'Optimization terminated successfully.'\n",
       "     nfev: 18\n",
       "      nit: 5\n",
       "     njev: 9\n",
       "   status: 0\n",
       "  success: True\n",
       "        x: array([-1.11051058])"
      ]
     },
     "execution_count": 8,
     "metadata": {},
     "output_type": "execute_result"
    }
   ],
   "source": [
    "#Perform optimize minimize function using bfgs method and without options\n",
    "MinimumValuewithoutput = optimize.minimize(f,x0=2,method='bfgs')\n",
    "MinimumValuewithoutput"
   ]
  },
  {
   "cell_type": "code",
   "execution_count": 9,
   "id": "c2957cb1",
   "metadata": {
    "ExecuteTime": {
     "end_time": "2021-06-20T15:56:28.920052Z",
     "start_time": "2021-06-20T15:56:28.878049Z"
    }
   },
   "outputs": [
    {
     "data": {
      "text/plain": [
       "    fjac: array([[-1.]])\n",
       "     fun: array([0.])\n",
       " message: 'The solution converged.'\n",
       "    nfev: 14\n",
       "     qtf: array([-8.32889313e-13])\n",
       "       r: array([-4.28198145])\n",
       "  status: 1\n",
       " success: True\n",
       "       x: array([-1.21597614])"
      ]
     },
     "execution_count": 9,
     "metadata": {},
     "output_type": "execute_result"
    }
   ],
   "source": [
    "#Import numpy and optimize from SciPy\n",
    "import numpy as np\n",
    "from scipy.optimize import root\n",
    "\n",
    "#Define function for X + 3.5 Cos x\n",
    "def rootfunc(x):\n",
    "    return x+3.5*np.cos(x)\n",
    "\n",
    "#Pass x value in argument for root\n",
    "rootValue = root(rootfunc,0.3)\n",
    "#Function value and array values\n",
    "rootValue"
   ]
  },
  {
   "cell_type": "markdown",
   "id": "6b3bb1c0",
   "metadata": {},
   "source": [
    "#### SciPy Sub-Package: Linear Algebra\n",
    "\n",
    "SciPy provides rapid linear algebra capabilities and contains advanced algebraic functions.\n",
    "\n",
    "##### inverse of matrix\n",
    "\n",
    "This function is used to compute the inverse of the given matrix. Let’s look at the inverse matrix operation."
   ]
  },
  {
   "cell_type": "code",
   "execution_count": 10,
   "id": "d12767e3",
   "metadata": {
    "ExecuteTime": {
     "end_time": "2021-06-20T15:56:28.964054Z",
     "start_time": "2021-06-20T15:56:28.925052Z"
    }
   },
   "outputs": [
    {
     "data": {
      "text/plain": [
       "array([[10,  6],\n",
       "       [ 2,  7]])"
      ]
     },
     "execution_count": 10,
     "metadata": {},
     "output_type": "execute_result"
    }
   ],
   "source": [
    "#Import linalg and Define a numpy matrix  or array\n",
    "import numpy as np\n",
    "from scipy import linalg\n",
    "matrix = np.array([[10,6],[2,7]])\n",
    "matrix"
   ]
  },
  {
   "cell_type": "code",
   "execution_count": 11,
   "id": "b12a1793",
   "metadata": {
    "ExecuteTime": {
     "end_time": "2021-06-20T15:56:29.011057Z",
     "start_time": "2021-06-20T15:56:28.966054Z"
    }
   },
   "outputs": [
    {
     "data": {
      "text/plain": [
       "numpy.ndarray"
      ]
     },
     "execution_count": 11,
     "metadata": {},
     "output_type": "execute_result"
    }
   ],
   "source": [
    "#view type\n",
    "type(matrix)"
   ]
  },
  {
   "cell_type": "code",
   "execution_count": 12,
   "id": "f495b674",
   "metadata": {
    "ExecuteTime": {
     "end_time": "2021-06-20T15:56:29.049059Z",
     "start_time": "2021-06-20T15:56:29.013057Z"
    }
   },
   "outputs": [
    {
     "data": {
      "text/plain": [
       "array([[ 0.12068966, -0.10344828],\n",
       "       [-0.03448276,  0.17241379]])"
      ]
     },
     "execution_count": 12,
     "metadata": {},
     "output_type": "execute_result"
    }
   ],
   "source": [
    "#Use inv function to inverse the matrix\n",
    "linalg.inv(matrix)"
   ]
  },
  {
   "cell_type": "markdown",
   "id": "388988ef",
   "metadata": {},
   "source": [
    "##### Finding Determinant\n",
    "\n",
    "With this function you can compute the value of the determinant for the given matrix."
   ]
  },
  {
   "cell_type": "code",
   "execution_count": 13,
   "id": "a16d6df7",
   "metadata": {
    "ExecuteTime": {
     "end_time": "2021-06-20T15:56:29.090062Z",
     "start_time": "2021-06-20T15:56:29.051059Z"
    }
   },
   "outputs": [
    {
     "data": {
      "text/plain": [
       "array([[4, 9],\n",
       "       [3, 5]])"
      ]
     },
     "execution_count": 13,
     "metadata": {},
     "output_type": "execute_result"
    }
   ],
   "source": [
    "#Import linalg and Define a numpy matrix  or array\n",
    "import numpy as np\n",
    "from scipy import linalg\n",
    "matrix = np.array([[4,9],[3,5]])\n",
    "matrix"
   ]
  },
  {
   "cell_type": "code",
   "execution_count": 14,
   "id": "4fc832f6",
   "metadata": {
    "ExecuteTime": {
     "end_time": "2021-06-20T15:56:29.160066Z",
     "start_time": "2021-06-20T15:56:29.091062Z"
    },
    "scrolled": true
   },
   "outputs": [
    {
     "data": {
      "text/plain": [
       "-6.999999999999999"
      ]
     },
     "execution_count": 14,
     "metadata": {},
     "output_type": "execute_result"
    }
   ],
   "source": [
    "linalg.det(matrix)"
   ]
  },
  {
   "cell_type": "markdown",
   "id": "16192d97",
   "metadata": {},
   "source": [
    "##### Solve Linear systems (linalg.solve())\n",
    "\n",
    "__Linear equation__\n",
    "\n",
    "* 2x + 3 y + z = 21\n",
    "* -x + 5y + 4z = 93\n",
    "* x + 2y + 9z = 6"
   ]
  },
  {
   "cell_type": "code",
   "execution_count": 15,
   "id": "69e4d835",
   "metadata": {
    "ExecuteTime": {
     "end_time": "2021-06-20T15:56:29.209068Z",
     "start_time": "2021-06-20T15:56:29.164066Z"
    }
   },
   "outputs": [
    {
     "data": {
      "text/plain": [
       "array([ 4.95,  4.35, -1.95])"
      ]
     },
     "execution_count": 15,
     "metadata": {},
     "output_type": "execute_result"
    }
   ],
   "source": [
    "#Import linalg and Define a numpy matrix  or array\n",
    "import numpy as np\n",
    "from scipy import linalg\n",
    "\n",
    "numArray = np.array([[2,3,1],[-1,5,4],[3,2,9]])\n",
    "numArrayValue = np.array([21,9,6])\n",
    "\n",
    "#Use solve method\n",
    "linalg.solve(numArray, numArrayValue)"
   ]
  },
  {
   "cell_type": "markdown",
   "id": "e5b22b50",
   "metadata": {},
   "source": [
    "__Calculate Eigenvalues and Eigenvectors__\n",
    "\n",
    "__Problem Statement:__ Demonstrate how to calculate eigenvalues and eigenvectors"
   ]
  },
  {
   "cell_type": "code",
   "execution_count": 16,
   "id": "42f915a2",
   "metadata": {
    "ExecuteTime": {
     "end_time": "2021-06-20T15:56:29.260071Z",
     "start_time": "2021-06-20T15:56:29.211069Z"
    }
   },
   "outputs": [
    {
     "name": "stdout",
     "output_type": "stream",
     "text": [
      "[-0.74596669+0.j 14.74596669+0.j]\n",
      "\n",
      " [[-0.81220939 -0.63447346]\n",
      " [ 0.58336601 -0.77294465]]\n",
      "\n",
      " (array([-0.74596669+0.j, 14.74596669+0.j]), array([[-0.81220939, -0.63447346],\n",
      "       [ 0.58336601, -0.77294465]]))\n"
     ]
    }
   ],
   "source": [
    "#import the required Libraries\n",
    "import numpy as np\n",
    "from scipy import linalg\n",
    "\n",
    "#test data matrix (rating on scale of 10) (Sqaure matrix)\n",
    "test_rating_data = np.array([[5,8],[7,9]])\n",
    "eigenvalues, eigenvectors = linalg.eig(test_rating_data)\n",
    "print(eigenvalues)\n",
    "print('\\n',eigenvectors)\n",
    "print('\\n',linalg.eig(test_rating_data))"
   ]
  },
  {
   "cell_type": "code",
   "execution_count": 17,
   "id": "9e989ee6",
   "metadata": {
    "ExecuteTime": {
     "end_time": "2021-06-20T15:56:29.299074Z",
     "start_time": "2021-06-20T15:56:29.261071Z"
    }
   },
   "outputs": [
    {
     "name": "stdout",
     "output_type": "stream",
     "text": [
      "(-0.745966692414834+0j) (14.745966692414834+0j)\n"
     ]
    }
   ],
   "source": [
    "#print Eigenvalues (1st and 2nd Eigenvalues)\n",
    "first_eigenvalues, second_eigenvalues = eigenvalues\n",
    "print (first_eigenvalues, second_eigenvalues)"
   ]
  },
  {
   "cell_type": "code",
   "execution_count": 18,
   "id": "792e73d1",
   "metadata": {
    "ExecuteTime": {
     "end_time": "2021-06-20T15:56:29.345076Z",
     "start_time": "2021-06-20T15:56:29.301074Z"
    }
   },
   "outputs": [
    {
     "name": "stdout",
     "output_type": "stream",
     "text": [
      "[-0.81220939  0.58336601]\n"
     ]
    }
   ],
   "source": [
    "#print First Eigenvector using slicing technoque by apllying :0 to print first eigenvector\n",
    "print (eigenvectors[:,0])"
   ]
  },
  {
   "cell_type": "code",
   "execution_count": 19,
   "id": "314f82ee",
   "metadata": {
    "ExecuteTime": {
     "end_time": "2021-06-20T15:56:29.385078Z",
     "start_time": "2021-06-20T15:56:29.347076Z"
    }
   },
   "outputs": [
    {
     "name": "stdout",
     "output_type": "stream",
     "text": [
      "[-0.63447346 -0.77294465]\n"
     ]
    }
   ],
   "source": [
    "#print Second Eigenvector using slicing technoque by apllying :1 to print Second eigenvector\n",
    "print (eigenvectors[:,1])"
   ]
  },
  {
   "cell_type": "markdown",
   "id": "e66e3eac",
   "metadata": {},
   "source": [
    "##### Single Value Decomposition (SVD)"
   ]
  },
  {
   "cell_type": "code",
   "execution_count": 20,
   "id": "79c18395",
   "metadata": {
    "ExecuteTime": {
     "end_time": "2021-06-20T15:56:29.433081Z",
     "start_time": "2021-06-20T15:56:29.389079Z"
    }
   },
   "outputs": [
    {
     "data": {
      "text/plain": [
       "(2, 3)"
      ]
     },
     "execution_count": 20,
     "metadata": {},
     "output_type": "execute_result"
    }
   ],
   "source": [
    "#Import linalg\n",
    "import numpy as np\n",
    "from scipy import linalg\n",
    "\n",
    "#Define matrix\n",
    "numSVDarray = np.array([[3,5,1],[9,5,7]])\n",
    "\n",
    "#Find shape of ndarray which is  2X3 matrix \n",
    "numSVDarray.shape"
   ]
  },
  {
   "cell_type": "code",
   "execution_count": 21,
   "id": "559fbd50",
   "metadata": {
    "ExecuteTime": {
     "end_time": "2021-06-20T15:56:29.480084Z",
     "start_time": "2021-06-20T15:56:29.437081Z"
    }
   },
   "outputs": [
    {
     "data": {
      "text/plain": [
       "(array([[-0.37879831,  0.92547925],\n",
       "        [-0.92547925, -0.37879831]]),\n",
       " array([13.38464336,  3.29413449]),\n",
       " array([[-0.7072066 , -0.4872291 , -0.51231496],\n",
       "        [-0.19208294,  0.82977932, -0.52399467],\n",
       "        [-0.68041382,  0.27216553,  0.68041382]]))"
      ]
     },
     "execution_count": 21,
     "metadata": {},
     "output_type": "execute_result"
    }
   ],
   "source": [
    "#use SVD function\n",
    "linalg.svd(numSVDarray)\n",
    "\n",
    "# 1. U (Unitary matrix)\n",
    "# 2. Sigma or square root of eigenvalues\n",
    "# 3. VH is values collected into unitary matrix"
   ]
  },
  {
   "cell_type": "markdown",
   "id": "87f3c88f",
   "metadata": {},
   "source": [
    "#### SciPy Sub-Package: Statistics\n",
    "\n",
    "SciPy provides a very rich set of statistical functions which are:\n",
    "\n",
    "* This package contains distributions for which random variables are generated. \n",
    "* These packages enable the addition of new routines and distributions.  It also offers convenience methods such as pdf(), cdf()\n",
    "* Following are the statistical functions for a set of data\n",
    "    * linear regression: linregress()\n",
    "    * describing data: describe(), normaltest()\n",
    "    \n",
    "__CDF or Cumulative Distribution Function__ provides the cumulative probability associated with a function.\n",
    "\n",
    "__Derivative of cdf__\n",
    "\n",
    "* __F(x) = P(X≤x)__"
   ]
  },
  {
   "cell_type": "markdown",
   "id": "7b5cc08b",
   "metadata": {},
   "source": [
    "__Probability Density Function or PDF__ of a continuous random variable is the derivative of its Cumulative Distribution Function, or CDF.\n",
    "\n",
    "__Derivative of pdf__\n",
    "\n",
    "* __F(x) = dF(x) / dx__\n",
    "\n",
    "Shown here are functions used to perform Normal Distribution:"
   ]
  },
  {
   "cell_type": "markdown",
   "id": "9d3edce1",
   "metadata": {},
   "source": [
    "__loc and scale are used to adjust the location and scale of the data distribution.__"
   ]
  },
  {
   "cell_type": "code",
   "execution_count": 22,
   "id": "6a04bc08",
   "metadata": {
    "ExecuteTime": {
     "end_time": "2021-06-20T15:56:29.752099Z",
     "start_time": "2021-06-20T15:56:29.484084Z"
    }
   },
   "outputs": [
    {
     "data": {
      "text/plain": [
       "array([ 0.83316749, -0.05919067, -0.06751606,  0.5893463 , -0.05737175,\n",
       "        0.40455729, -0.70556572,  1.12323875, -1.90470273,  0.14285252])"
      ]
     },
     "execution_count": 22,
     "metadata": {},
     "output_type": "execute_result"
    }
   ],
   "source": [
    "#Import norm for normal distribution \n",
    "from scipy.stats import norm\n",
    "\n",
    "#rvs for random variables\n",
    "norm.rvs(loc=0,scale=1,size=10)"
   ]
  },
  {
   "cell_type": "code",
   "execution_count": 23,
   "id": "a21da800",
   "metadata": {
    "ExecuteTime": {
     "end_time": "2021-06-20T15:56:29.759100Z",
     "start_time": "2021-06-20T15:56:29.754100Z"
    }
   },
   "outputs": [
    {
     "data": {
      "text/plain": [
       "0.9772498680518208"
      ]
     },
     "execution_count": 23,
     "metadata": {},
     "output_type": "execute_result"
    }
   ],
   "source": [
    "#cdf for Cumulative Distribution Function\n",
    "norm.cdf(5,loc=1,scale=2)"
   ]
  },
  {
   "cell_type": "code",
   "execution_count": 24,
   "id": "210ba66d",
   "metadata": {
    "ExecuteTime": {
     "end_time": "2021-06-20T15:56:29.804102Z",
     "start_time": "2021-06-20T15:56:29.760100Z"
    }
   },
   "outputs": [
    {
     "data": {
      "text/plain": [
       "1.0279773571668917e-18"
      ]
     },
     "execution_count": 24,
     "metadata": {},
     "output_type": "execute_result"
    }
   ],
   "source": [
    "#pdf for Probability Density Function for random distribution\n",
    "norm.pdf(9,loc=0,scale=1)"
   ]
  },
  {
   "cell_type": "markdown",
   "id": "48155a65",
   "metadata": {},
   "source": [
    "#### SciPy Sub-Package: Weave\n",
    "\n",
    "The weave package provides ways to modify and extend any supported extension libraries.\n",
    "\n",
    "__Features of Weave Package:__\n",
    "* Includes C/C++ code within Python code\n",
    "* Speed ups of 1.5x to 30x compared to algorithms written in pure Python\n",
    "\n",
    "__Two main functions of weave:__\n",
    "* inline() compiles and executes C/C++ code on the fly\n",
    "* blitz() compiles NumPy Python expressions for fast execution"
   ]
  },
  {
   "cell_type": "markdown",
   "id": "434d045e",
   "metadata": {},
   "source": [
    "#### SciPy Sub-Package: IO\n",
    "\n",
    "The IO package provides a set of functions to deal with several kinds of file formats.\n",
    "\n",
    "It offers a set of functions to deal with file formats that include:\n",
    "* MatLab file\n",
    "* IDL files\n",
    "* Matrix market files\n",
    "* Wav sound files\n",
    "* Arff files\n",
    "* Netcdf files\n",
    "\n",
    "Package provides additional files and its corresponding methods such as:\n",
    "* Numpy.loadtxt()/Numpy.savetxt()\n",
    "* Numpy.genfromtxt()/Numpy.recfromcsv()\n",
    "* Numpy.save()/Numpy.load()"
   ]
  },
  {
   "cell_type": "code",
   "execution_count": null,
   "id": "67463814",
   "metadata": {},
   "outputs": [],
   "source": []
  }
 ],
 "metadata": {
  "kernelspec": {
   "display_name": "Python 3",
   "language": "python",
   "name": "python3"
  },
  "language_info": {
   "codemirror_mode": {
    "name": "ipython",
    "version": 3
   },
   "file_extension": ".py",
   "mimetype": "text/x-python",
   "name": "python",
   "nbconvert_exporter": "python",
   "pygments_lexer": "ipython3",
   "version": "3.8.10"
  },
  "toc": {
   "base_numbering": 1,
   "nav_menu": {},
   "number_sections": true,
   "sideBar": true,
   "skip_h1_title": true,
   "title_cell": "Table of Contents",
   "title_sidebar": "Contents",
   "toc_cell": false,
   "toc_position": {
    "height": "calc(100% - 180px)",
    "left": "10px",
    "top": "150px",
    "width": "265.2px"
   },
   "toc_section_display": true,
   "toc_window_display": true
  }
 },
 "nbformat": 4,
 "nbformat_minor": 5
}
